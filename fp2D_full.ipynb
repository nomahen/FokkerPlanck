{
 "cells": [
  {
   "cell_type": "code",
   "execution_count": 1,
   "metadata": {},
   "outputs": [],
   "source": [
    "import numpy as np\n",
    "import matplotlib.pyplot as plt\n",
    "import field\n",
    "import spatial\n",
    "import timesteppers\n",
    "import scipy.sparse.linalg as spla\n",
    "from scipy.integrate import trapz\n",
    "from scipy import sparse\n",
    "import scipy.signal as signal\n",
    "\n",
    "from timesteppers import *\n",
    "\n",
    "from field import *\n",
    "from spatial import FiniteDifferenceUniformGrid\n",
    "\n",
    "%matplotlib inline"
   ]
  },
  {
   "cell_type": "code",
   "execution_count": 2,
   "metadata": {},
   "outputs": [
    {
     "data": {
      "text/plain": [
       "'        \\n        M = LHS.field_coeff(pt, axis=axis)\\n        M = M.tocsr()\\n        print(M.shape)\\n        print(bc1.field_coeff(pt).shape)\\n        print(LHS.field_coeff(pt, axis=axis).shape)\\n        M[:1,:]  = bc1.field_coeff(pt)\\n        M[-1:,:] = bc2.field_coeff(pt)\\n        M.eliminate_zeros()\\n        self.M = M\\n        \\n        L = LHS.field_coeff(p, axis=axis)\\n        L = L.tocsr()\\n        L[:1,:]  = bc1.field_coeff(p)\\n        L[-1:,:] = bc2.field_coeff(p)\\n        L.eliminate_zeros()\\n        self.L = L\\n        '"
      ]
     },
     "execution_count": 2,
     "metadata": {},
     "output_type": "execute_result"
    }
   ],
   "source": [
    "\"\"\"        \n",
    "        M = LHS.field_coeff(pt, axis=axis)\n",
    "        M = M.tocsr()\n",
    "        print(M.shape)\n",
    "        print(bc1.field_coeff(pt).shape)\n",
    "        print(LHS.field_coeff(pt, axis=axis).shape)\n",
    "        M[:1,:]  = bc1.field_coeff(pt)\n",
    "        M[-1:,:] = bc2.field_coeff(pt)\n",
    "        M.eliminate_zeros()\n",
    "        self.M = M\n",
    "        \n",
    "        L = LHS.field_coeff(p, axis=axis)\n",
    "        L = L.tocsr()\n",
    "        L[:1,:]  = bc1.field_coeff(p)\n",
    "        L[-1:,:] = bc2.field_coeff(p)\n",
    "        L.eliminate_zeros()\n",
    "        self.L = L\n",
    "        \"\"\""
   ]
  },
  {
   "cell_type": "code",
   "execution_count": 3,
   "metadata": {},
   "outputs": [],
   "source": [
    "def axslice(axis, start, stop, step=None):\n",
    "    \"\"\"Slice array along a specified axis.\"\"\"\n",
    "    if axis < 0:\n",
    "        raise ValueError(\"`axis` must be positive\")\n",
    "    slicelist = [slice(None)] * axis\n",
    "    slicelist.append(slice(start, stop, step))\n",
    "    return tuple(slicelist)\n",
    "\n",
    "def apply_matrix(matrix, array, axis, **kw):\n",
    "    \"\"\"Contract any direction of a multidimensional array with a matrix.\"\"\"\n",
    "    dim = len(array.shape)\n",
    "    # Build Einstein signatures\n",
    "    mat_sig = [dim, axis]\n",
    "    arr_sig = list(range(dim))\n",
    "    out_sig = list(range(dim))\n",
    "    out_sig[axis] = dim\n",
    "    # Handle sparse matrices\n",
    "    if sparse.isspmatrix(matrix):\n",
    "        matrix = matrix.toarray()\n",
    "    return np.einsum(matrix, mat_sig, array, arr_sig, out_sig, **kw)\n",
    "\n",
    "class BoundaryCondition(field.LinearOperator):\n",
    "\n",
    "    def __init__(self, derivative_order, convergence_order, arg, value, axis=0):\n",
    "\n",
    "        self.derivative_order = derivative_order\n",
    "        self.convergence_order = convergence_order\n",
    "        self.dof = self.derivative_order + self.convergence_order\n",
    "        self.value = value\n",
    "        self.axis = axis\n",
    "        self.grid = arg.domain.grids[axis]\n",
    "        if not isinstance(self.grid, field.UniformNonPeriodicGrid):\n",
    "            raise ValueError(\"Can only apply BC's on UniformNonPeriodicGrid\")\n",
    "        self._build_vector()\n",
    "        N = self.grid.N\n",
    "        self.matrix = self.vector.reshape((1,N))\n",
    "        super().__init__(arg)\n",
    "\n",
    "    def _coeffs(self, dx, j):\n",
    "        i = np.arange(self.dof)[:, None]\n",
    "        j = j[None, :]\n",
    "        S = 1/factorial(i)*(j*dx)**i\n",
    "\n",
    "        b = np.zeros( self.dof )\n",
    "        b[self.derivative_order] = 1.\n",
    "\n",
    "        return np.linalg.solve(S, b)\n",
    "        \n",
    "    def field_coeff(self, field, axis=None):\n",
    "        if axis == None:\n",
    "            axis = self.axis\n",
    "        if axis != self.axis:\n",
    "            raise ValueError(\"Axis must match self.axis\")\n",
    "        if field == self.field:\n",
    "            return self.matrix\n",
    "        else:\n",
    "            return 0*self.matrix\n",
    "        \n",
    "        \n",
    "class Left(BoundaryCondition):\n",
    "\n",
    "    def _build_vector(self):\n",
    "        dx = self.grid.dx\n",
    "        j = 1/2 + np.arange(self.dof)\n",
    "        \n",
    "        coeffs = self._coeffs(dx, j)\n",
    "        \n",
    "        self.vector = np.zeros(self.grid.N)\n",
    "        self.vector[:self.dof] = coeffs\n",
    "        \n",
    "    def operate(self):\n",
    "        s = axslice(self.axis, 1, None)\n",
    "        BC = self.value - apply_matrix(self.matrix[:,1:], self.field.data[s], self.axis)\n",
    "        BC /= self.matrix[0,0]\n",
    "        s = axslice(self.axis, 0, 1)\n",
    "        self.field.data[s] = BC\n",
    "\n",
    "        \n",
    "class Right(BoundaryCondition):\n",
    "\n",
    "    def _build_vector(self):\n",
    "        dx = self.grid.dx\n",
    "        j = np.arange(self.dof) - self.dof + 1/2\n",
    "        \n",
    "        coeffs = self._coeffs(dx, j)\n",
    "        \n",
    "        self.vector = np.zeros(self.grid.N)\n",
    "        self.vector[-self.dof:] = coeffs\n",
    "        \n",
    "    def operate(self):\n",
    "        s = axslice(self.axis, None, -1)\n",
    "        BC = self.value - apply_matrix(self.matrix[:,:-1], self.field.data[s], self.axis)\n",
    "        BC /= self.matrix[0,-1]\n",
    "        s = axslice(self.axis, -1, None)\n",
    "        self.field.data[s] = BC"
   ]
  },
  {
   "cell_type": "code",
   "execution_count": 4,
   "metadata": {},
   "outputs": [],
   "source": [
    "class DiffusionBC:\n",
    "    \n",
    "    def __init__(self, X, nu):\n",
    "        axis = 0\n",
    "        self.X = X\n",
    "        u = X.field_list[0]\n",
    "        self.domain = u.domain\n",
    "        \n",
    "        dudx2 = spatial.FiniteDifferenceUniformGrid(2, 4, u)\n",
    "        \n",
    "        ut = field.Field(self.domain)\n",
    "        \n",
    "        eq1 = ut - nu*dudx2\n",
    "        \n",
    "        bc1 =  Left(0, 4, u, 0)\n",
    "        bc2 = Right(0, 4, u, 0)\n",
    "        \n",
    "        M = eq1.field_coeff(ut, axis=axis)\n",
    "        M = M.tocsr()\n",
    "        M[:1,:]  = bc1.field_coeff(ut)\n",
    "        M[-1:,:] = bc2.field_coeff(ut)\n",
    "        M.eliminate_zeros()\n",
    "        self.M = M\n",
    "        \n",
    "        L = eq1.field_coeff(u, axis=axis)\n",
    "        L = L.tocsr()\n",
    "        L[:1,:]  = bc1.field_coeff(u)\n",
    "        L[-1:,:] = bc2.field_coeff(u)\n",
    "        L.eliminate_zeros()\n",
    "        self.L = L"
   ]
  },
  {
   "cell_type": "code",
   "execution_count": null,
   "metadata": {},
   "outputs": [],
   "source": []
  },
  {
   "cell_type": "code",
   "execution_count": null,
   "metadata": {},
   "outputs": [],
   "source": []
  },
  {
   "cell_type": "code",
   "execution_count": null,
   "metadata": {},
   "outputs": [],
   "source": []
  },
  {
   "cell_type": "code",
   "execution_count": null,
   "metadata": {},
   "outputs": [],
   "source": []
  },
  {
   "cell_type": "code",
   "execution_count": 5,
   "metadata": {},
   "outputs": [],
   "source": [
    "class FokkerPlanck_2D:\n",
    "    \n",
    "    def __init__(self, X,mu,D, spatial_order=4):\n",
    "      \n",
    "     \n",
    "        self.X = X\n",
    "        p = X.field_list[0]        \n",
    "        self.domain = p.domain\n",
    "        \n",
    "        pt = Field(self.domain)\n",
    "        \n",
    "        dx=FiniteDifferenceUniformGrid(1, spatial_order, p, axis=0)\n",
    "        dy=FiniteDifferenceUniformGrid(1, spatial_order, p, axis=1)\n",
    "        dx2=FiniteDifferenceUniformGrid(2, spatial_order, p, axis=0)\n",
    "        dy2=FiniteDifferenceUniformGrid(2, spatial_order, p, axis=1)\n",
    "        \n",
    "        dmux=FiniteDifferenceUniformGrid(1, spatial_order, mu, axis=0)#.operate()\n",
    "        dDx2=FiniteDifferenceUniformGrid(2, spatial_order, D, axis=0)#.operate()\n",
    "        dmuy=FiniteDifferenceUniformGrid(1, spatial_order, mu, axis=1)#.operate()\n",
    "        dDy2=FiniteDifferenceUniformGrid(2, spatial_order, D, axis=1)#.operate()\n",
    "        \n",
    "        #mixed terms\n",
    "        \n",
    "        dxdy = FiniteDifferenceUniformGrid(1, spatial_order, dx, 1)\n",
    "        dydx = FiniteDifferenceUniformGrid(1, spatial_order, dy, 0)\n",
    "        \n",
    "        #dDx=FiniteDifferenceUniformGrid(1, spatial_order, D, axis=0)#.operate()\n",
    "        #dDy=FiniteDifferenceUniformGrid(1, spatial_order, D, axis=1)#.operate()\n",
    "        \n",
    "        #dDxdy = FiniteDifferenceUniformGrid(1, spatial_order, dDx, 1)\n",
    "        #dDydx = FiniteDifferenceUniformGrid(1, spatial_order, dDy, 0)\n",
    "        \n",
    "        axis='full'\n",
    "        \n",
    "        LHS = pt -  D*dx2 - D*dy2 + mu* dx + mu*dy  - dDx2 + dmux - dDy2 + dmuy - D*dxdy -D* dydx\n",
    "        \n",
    "#        self.bc1x =  Left(0, 4, p, 0,axis=0)\n",
    "#        self.bc2x = Right(0, 4, p, 0,axis=0)\n",
    "#        self.bc1y =  Left(0, 4, p, 0,axis=1)\n",
    "#        self.bc2y = Right(0, 4, p, 0,axis=1)\n",
    "        self.M = LHS.field_coeff(pt)\n",
    "        self.L = LHS.field_coeff(p)\n",
    "        \n",
    "        self.t = 0.\n",
    "        self.iter = 0\n",
    "\n",
    "        \n",
    "    def step(self, dt):\n",
    "        \n",
    "#        self.bc1x.operate()\n",
    "#        self.bc2x.operate()\n",
    "#        self.bc1y.operate()\n",
    "#        self.bc2y.operate()\n",
    "        self.ts = CrankNicolson(self,axis='full')\n",
    "        self.ts.step(dt)\n",
    "        self.t += dt\n",
    "        self.iter += 1"
   ]
  },
  {
   "cell_type": "code",
   "execution_count": null,
   "metadata": {},
   "outputs": [],
   "source": []
  },
  {
   "cell_type": "code",
   "execution_count": 6,
   "metadata": {
    "scrolled": false
   },
   "outputs": [
    {
     "name": "stdout",
     "output_type": "stream",
     "text": [
      "(50, 50)\n"
     ]
    },
    {
     "name": "stderr",
     "output_type": "stream",
     "text": [
      "C:\\Users\\Lindsey\\Anaconda3\\lib\\site-packages\\scipy\\sparse\\compressed.py:746: SparseEfficiencyWarning: Changing the sparsity structure of a csr_matrix is expensive. lil_matrix is more efficient.\n",
      "  SparseEfficiencyWarning)\n"
     ]
    },
    {
     "name": "stdout",
     "output_type": "stream",
     "text": [
      "### Elapsed time1 =  24.036643028259277\n"
     ]
    }
   ],
   "source": [
    "resolution = 50\n",
    "alpha = .1\n",
    "spatial_order = 4\n",
    "\n",
    "grid_x = field.UniformNonPeriodicGrid(resolution,(0,2*np.pi))\n",
    "grid_y = field.UniformNonPeriodicGrid(resolution,(0,2*np.pi))\n",
    "domain = field.Domain((grid_x, grid_y))\n",
    "x, y = domain.values()\n",
    "#print(np.shape(x[0]))\n",
    "\n",
    "p = field.Field(domain)\n",
    "\n",
    "\n",
    "\n",
    "X = field.FieldSystem([p])\n",
    "r = x-np.pi\n",
    "\n",
    "DC = .03\n",
    "mu=field.Array(domain, 0*np.ones(p.data.shape))\n",
    "D=field.Array(domain, DC*np.ones(p.data.shape))\n",
    "\n",
    "idx = resolution//2 + 1\n",
    "IC = signal.unit_impulse(resolution,idx)[:,None]\n",
    "p.data[:]=IC\n",
    "print(p.data.shape)\n",
    "p.data[:]=IC\n",
    "\n",
    "diff = FokkerPlanck_2D(X,mu,D)\n",
    "\n",
    "tmax = 1-1e-5\n",
    "\n",
    "dt = alpha * domain.grids[0].dx\n",
    "import time\n",
    "START = time.time()\n",
    "sols = []\n",
    "while diff.t < tmax:\n",
    "    diff.step(dt)\n",
    "    sols.append(p.data[:,20])\n",
    "    \n",
    "END = time.time()\n",
    "print(\"### Elapsed time1 = \",END-START) \n"
   ]
  },
  {
   "cell_type": "code",
   "execution_count": 7,
   "metadata": {},
   "outputs": [
    {
     "name": "stdout",
     "output_type": "stream",
     "text": [
      "(50,)\n",
      "(50, 1)\n"
     ]
    },
    {
     "data": {
      "text/plain": [
       "<function matplotlib.pyplot.plot(*args, **kwargs)>"
      ]
     },
     "execution_count": 7,
     "metadata": {},
     "output_type": "execute_result"
    },
    {
     "data": {
      "image/png": "[encoded data removed]",
      "text/plain": [
       "<Figure size 432x288 with 1 Axes>"
      ]
     },
     "metadata": {},
     "output_type": "display_data"
    }
   ],
   "source": [
    "N = resolution\n",
    "#idx = index at which the value is one (index of x0)\n",
    "\n",
    "\n",
    "x_a = np.linspace(0,2*np.pi,N)\n",
    "idx = N//2 + 1\n",
    "Wiener_IC = signal.unit_impulse(N,idx)\n",
    "x0 = x_a[idx]\n",
    "t0 = 0\n",
    "\n",
    "def Wiener_sol(D,t,t0,x,x0):\n",
    "    sol = 1/(np.sqrt(4*np.pi*D*(t-t0)))*np.exp(-1*(x-x0)**2/(4*D*(t-t0)))\n",
    "    return sol\n",
    "\n",
    "target = Wiener_sol(DC,tmax,t0,x_a,x0)\n",
    "\n",
    "\n",
    "print(x[:,0].shape)\n",
    "print(IC.shape)\n",
    "plt.plot(x[:,0],p.data[:,20])\n",
    "plt.plot(x_a,target,label='target')\n",
    "plt.plot(x[:,0],IC)\n",
    "plt.plot"
   ]
  },
  {
   "cell_type": "code",
   "execution_count": null,
   "metadata": {},
   "outputs": [],
   "source": []
  },
  {
   "cell_type": "code",
   "execution_count": 54,
   "metadata": {},
   "outputs": [
    {
     "data": {
      "text/plain": [
       "<matplotlib.legend.Legend at 0x1858160f860>"
      ]
     },
     "execution_count": 54,
     "metadata": {},
     "output_type": "execute_result"
    },
    {
     "data": {
      "image/png": "[encoded data removed]",
      "text/plain": [
       "<Figure size 432x288 with 1 Axes>"
      ]
     },
     "metadata": {},
     "output_type": "display_data"
    }
   ],
   "source": [
    "plt.plot(x_a,target,label='target')\n",
    "#plt.plot(x_a,Wiener_IC)\n",
    "plt.plot(x[:,0],p.data[:,20],label='model')\n",
    "plt.legend()"
   ]
  },
  {
   "cell_type": "code",
   "execution_count": 137,
   "metadata": {},
   "outputs": [],
   "source": [
    "resolution = 50\n",
    "N = resolution\n",
    "x_a = np.linspace(0,2*np.pi,N)\n",
    "idx = N//2 + 1\n",
    "x0 = x_a[idx]\n",
    "gamma = 1\n",
    "D = .3\n",
    "mu = gamma * x_a\n",
    "ou_IC = signal.unit_impulse(N,idx)\n",
    "tmax = -1e-5\n",
    "\n",
    "\n",
    "def ornstein_uhlenbeck_sol(gamma,D,mu,t,x,x0):\n",
    "    a = np.sqrt(gamma/(2*np.pi*D*(1-np.exp(-2*gamma*(t))))) \n",
    "    b = np.exp(-1*(gamma*(x-np.exp(-gamma*t)*x0)**2)/(2*D*(1-np.exp(-2*gamma*t))))\n",
    "    return a * b\n",
    "\n",
    "target_ou = ornstein_uhlenbeck_sol(gamma,D,mu,tmax,x_a,x0)"
   ]
  },
  {
   "cell_type": "code",
   "execution_count": 138,
   "metadata": {},
   "outputs": [
    {
     "data": {
      "text/plain": [
       "<matplotlib.legend.Legend at 0x18583d277b8>"
      ]
     },
     "execution_count": 138,
     "metadata": {},
     "output_type": "execute_result"
    },
    {
     "data": {
      "image/png": "[encoded data removed]",
      "text/plain": [
       "<Figure size 432x288 with 1 Axes>"
      ]
     },
     "metadata": {},
     "output_type": "display_data"
    }
   ],
   "source": [
    "plt.plot(x_a,target_ou,label='target')\n",
    "plt.plot(x_a,ou_IC,label='IC')\n",
    "plt.legend()"
   ]
  },
  {
   "cell_type": "code",
   "execution_count": 192,
   "metadata": {},
   "outputs": [
    {
     "name": "stdout",
     "output_type": "stream",
     "text": [
      "(50, 50)\n"
     ]
    },
    {
     "name": "stderr",
     "output_type": "stream",
     "text": [
      "C:\\Users\\Lindsey\\Anaconda3\\lib\\site-packages\\scipy\\sparse\\compressed.py:746: SparseEfficiencyWarning: Changing the sparsity structure of a csr_matrix is expensive. lil_matrix is more efficient.\n",
      "  SparseEfficiencyWarning)\n"
     ]
    }
   ],
   "source": [
    "resolution = 50\n",
    "alpha = .1\n",
    "spatial_order = 4\n",
    "\n",
    "grid_x = field.UniformNonPeriodicGrid(resolution,(0,2*np.pi))\n",
    "grid_y = field.UniformNonPeriodicGrid(resolution,(0,2*np.pi))\n",
    "domain = field.Domain((grid_x, grid_y))\n",
    "x, y = domain.values()\n",
    "#print(np.shape(x[0]))\n",
    "\n",
    "p = field.Field(domain)\n",
    "\n",
    "\n",
    "X = field.FieldSystem([p])\n",
    "gamma = 1\n",
    "#D = .3\n",
    "x2,y2 = np.meshgrid(x,x)\n",
    "\n",
    "DC = .3\n",
    "\n",
    "D=field.Array(domain, DC*np.ones(p.data.shape))\n",
    "mu=field.Array(domain, gamma*x2)\n",
    "\n",
    "idx = resolution//2 + 1\n",
    "IC = signal.unit_impulse(resolution,idx)[:,None]\n",
    "p.data[:]=IC\n",
    "print(p.data.shape)\n",
    "\n",
    "diff = FokkerPlanck_2D(X,mu,D)\n",
    "\n",
    "tmax = 2-1e-5\n",
    "\n",
    "dt = alpha * domain.grids[0].dx\n",
    "import time\n",
    "START = time.time()\n",
    "sols = []\n",
    "while diff.t < tmax:\n",
    "    diff.step(dt)\n",
    "    sols.append(p.data[:,20])\n",
    "    \n",
    "    \n",
    "END = time.time()\n",
    "\n",
    "N = resolution\n",
    "x_a = np.linspace(0,2*np.pi,N)\n",
    "idx = N//2 + 1\n",
    "x0 = x_a[idx]\n",
    "mu_a = gamma * x_a\n",
    "ou_IC = signal.unit_impulse(N,idx)\n",
    "target_ou = ornstein_uhlenbeck_sol(gamma,DC,mu_a,tmax,x_a,x0)"
   ]
  },
  {
   "cell_type": "code",
   "execution_count": null,
   "metadata": {},
   "outputs": [],
   "source": [
    "print(x[:,0].shape)\n",
    "print(IC.shape)\n",
    "plt.plot(x[:,0],p.data[:,20])\n",
    "plt.plot(x_a,target_ou,label='target')\n",
    "plt.plot(x[:,0],IC)\n",
    "plt.plot"
   ]
  },
  {
   "cell_type": "code",
   "execution_count": 8,
   "metadata": {},
   "outputs": [
    {
     "name": "stderr",
     "output_type": "stream",
     "text": [
      "C:\\Users\\Lindsey\\Anaconda3\\lib\\site-packages\\scipy\\sparse\\compressed.py:746: SparseEfficiencyWarning: Changing the sparsity structure of a csr_matrix is expensive. lil_matrix is more efficient.\n",
      "  SparseEfficiencyWarning)\n"
     ]
    },
    {
     "data": {
      "image/png": "[encoded data removed]",
      "text/plain": [
       "<Figure size 288x216 with 1 Axes>"
      ]
     },
     "metadata": {},
     "output_type": "display_data"
    }
   ],
   "source": [
    "resolution = 50\n",
    "alpha = .1\n",
    "spatial_order = 4\n",
    "\n",
    "grid_x = field.UniformNonPeriodicGrid(resolution,(0,2*np.pi))\n",
    "grid_y = field.UniformNonPeriodicGrid(resolution,(0,2*np.pi))\n",
    "domain = field.Domain((grid_x, grid_y))\n",
    "x, y = domain.values()\n",
    "#print(np.shape(x[0]))\n",
    "\n",
    "p = field.Field(domain)\n",
    "\n",
    "X = field.FieldSystem([p])\n",
    "\n",
    "mu=field.Array(domain, .5*np.ones(p.data.shape))\n",
    "D=field.Array(domain, .5*np.ones(p.data.shape))\n",
    "\n",
    "diff = FokkerPlanck_2D(X,mu,D)\n",
    "\n",
    "tmax = 2-1e-5\n",
    "r = np.sqrt((x-np.pi)**2 + (y-np.pi)**2)\n",
    "IC = np.exp(-r**2/4)\n",
    "\n",
    "p.data[:]=IC\n",
    "diff = FokkerPlanck_2D(X,mu,D)\n",
    "\n",
    "output_cadence = 10\n",
    "fig = plt.figure(figsize=(4,3))\n",
    "#plt.ylim([-1.1,1.1])\n",
    "v, = plt.plot(x[:,0], p.data[:,10])\n",
    "fig.canvas.draw()\n",
    "while diff.t <tmax:\n",
    "    diff.step(dt)\n",
    "    if diff.iter % output_cadence == 5:\n",
    "        v.set_ydata(p.data[:,10])\n",
    "        fig.canvas.draw()"
   ]
  },
  {
   "cell_type": "code",
   "execution_count": null,
   "metadata": {},
   "outputs": [],
   "source": []
  },
  {
   "cell_type": "code",
   "execution_count": null,
   "metadata": {},
   "outputs": [],
   "source": []
  }
 ],
 "metadata": {
  "kernelspec": {
   "display_name": "Python 3",
   "language": "python",
   "name": "python3"
  },
  "language_info": {
   "codemirror_mode": {
    "name": "ipython",
    "version": 3
   },
   "file_extension": ".py",
   "mimetype": "text/x-python",
   "name": "python",
   "nbconvert_exporter": "python",
   "pygments_lexer": "ipython3",
   "version": "3.6.5"
  }
 },
 "nbformat": 4,
 "nbformat_minor": 4
}
