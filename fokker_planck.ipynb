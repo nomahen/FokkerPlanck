{
 "cells": [
  {
   "cell_type": "code",
   "execution_count": 1,
   "metadata": {},
   "outputs": [],
   "source": [
    "import numpy as np\n",
    "import matplotlib.pyplot as plt\n",
    "import field\n",
    "import spatial\n",
    "import timesteppers\n",
    "import scipy.sparse.linalg as spla\n",
    "from scipy import sparse\n",
    "\n",
    "%matplotlib inline"
   ]
  },
  {
   "cell_type": "markdown",
   "metadata": {},
   "source": [
    "### $ \\frac{\\partial p}{\\partial t} = - \\frac{\\partial}{\\partial x} [ \\mu(x,t) p(x,t) ] + \\frac{\\partial^2}{\\partial x^2} [ D(x,t) p(x,t) ]$"
   ]
  },
  {
   "cell_type": "code",
   "execution_count": 4,
   "metadata": {},
   "outputs": [],
   "source": [
    "class FP_diffusion_split:\n",
    "    \n",
    "    def __init__(self, p, dD_p_dx2):\n",
    "\n",
    "        self.grid = p.grid\n",
    "        pt = Field(self.grid)\n",
    "        \n",
    "        LHS = pt - dD_p_dx2\n",
    "        \n",
    "        self.M = LHS.field_coeff(pt)\n",
    "        self.L = LHS.field_coeff(p)\n",
    "        \n",
    "        self.F_ops = [0*p]        \n",
    "    \n",
    "class FP_advection_split:\n",
    "    \n",
    "    def __init__(self, p, dmu_p_dx):\n",
    "        \n",
    "        self.grid = p.grid\n",
    "        pt = Field(self.grid)\n",
    "        \n",
    "        LHS = pt + dmu_p_dx\n",
    "        \n",
    "        self.M = LHS.field_coeff(pt)\n",
    "        self.L = LHS.field_coeff(p)\n",
    "        \n",
    "        self.F_ops = [0*p]        \n",
    "    \n",
    "class FokkerPlanck_1D:\n",
    "    \n",
    "    def __init__(self, p, mu, D, spatial_order=4):\n",
    "        '''\n",
    "        p ~ Fields\n",
    "        mu, D ~ Arrays\n",
    "        '''\n",
    "        \n",
    "        self.grid = p.grid\n",
    "        self.X = FieldSystem([p])\n",
    "\n",
    "        pt = Field(self.grid)\n",
    "         \n",
    "        # generate derivatives\n",
    "        dmu_p_dx = FiniteDifferenceUniformGrid(1, spatial_order, p*mu)\n",
    "        dD_p_dx2 = FiniteDifferenceUniformGrid(2, spatial_order, p*D)\n",
    "        \n",
    "        \n",
    "        self.operators = [FP_diffusion_split(self.p, dmu_p_dx),\n",
    "                          FP_advection_split(self.p, dD_p_dx2)]\n",
    "            \n",
    "            \n",
    "        self.ts_list   = [CrankNicolson(self.operators[0]),\n",
    "                          PredictorCorrector(self.operators[1])]     \n",
    "        \n",
    "    def step(self, dt):\n",
    "        # take a step\n",
    "        # update self.t and self.iter\n",
    "        \n",
    "        # diffusive terms commute, only have to strang split the other terms\n",
    "        self.ts_list[1].step(dt/2.)\n",
    "        self.ts_list[0].step(dt)\n",
    "        self.ts_list[1].step(dt/2.)\n",
    "            \n",
    "        \n",
    "        # update self.t and self.iter\n",
    "        self.t += dt\n",
    "        self.iter += 1        "
   ]
  },
  {
   "cell_type": "code",
   "execution_count": null,
   "metadata": {},
   "outputs": [],
   "source": []
  }
 ],
 "metadata": {
  "kernelspec": {
   "display_name": "Python 3",
   "language": "python",
   "name": "python3"
  },
  "language_info": {
   "codemirror_mode": {
    "name": "ipython",
    "version": 3
   },
   "file_extension": ".py",
   "mimetype": "text/x-python",
   "name": "python",
   "nbconvert_exporter": "python",
   "pygments_lexer": "ipython3",
   "version": "3.6.9"
  }
 },
 "nbformat": 4,
 "nbformat_minor": 2
}
