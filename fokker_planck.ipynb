{
 "cells": [
  {
   "cell_type": "code",
   "execution_count": 17,
   "metadata": {},
   "outputs": [],
   "source": [
    "import numpy as np\n",
    "import matplotlib.pyplot as plt\n",
    "import field\n",
    "import spatial\n",
    "import timesteppers\n",
    "import scipy.sparse.linalg as spla\n",
    "from scipy import sparse\n",
    "\n",
    "from timesteppers import *\n",
    "\n",
    "from field import *\n",
    "from spatial import FiniteDifferenceUniformGrid\n",
    "\n",
    "%matplotlib inline"
   ]
  },
  {
   "cell_type": "markdown",
   "metadata": {},
   "source": [
    "### $ \\frac{\\partial p}{\\partial t} = - \\frac{\\partial}{\\partial x} [ \\mu(x,t) p(x,t) ] + \\frac{\\partial^2}{\\partial x^2} [ D(x,t) p(x,t) ]$"
   ]
  },
  {
   "cell_type": "code",
   "execution_count": 43,
   "metadata": {},
   "outputs": [],
   "source": [
    "class FP_diffusion_split:\n",
    "    \n",
    "    def __init__(self, X, dD_p_dx2):\n",
    "        \n",
    "        self.X = X\n",
    "        p = X.field_list[0]        \n",
    "        self.domain = p.domain\n",
    "        \n",
    "        pt = Field(self.domain)\n",
    "        \n",
    "        LHS = pt - dD_p_dx2\n",
    "        \n",
    "        self.M = LHS.field_coeff(pt)\n",
    "        self.L = LHS.field_coeff(p)\n",
    "        \n",
    "        self.F_ops = [0*p]        \n",
    "    \n",
    "class FP_advection_split:\n",
    "    \n",
    "    def __init__(self, X, dmu_p_dx):\n",
    "        \n",
    "        self.X = X\n",
    "        p = X.field_list[0]        \n",
    "        self.domain = p.domain\n",
    "\n",
    "        pt = Field(self.domain)\n",
    "        \n",
    "        LHS = pt + dmu_p_dx\n",
    "        \n",
    "        self.M = LHS.field_coeff(pt)\n",
    "        self.L = LHS.field_coeff(p)\n",
    "        \n",
    "        self.F_ops = [0*p]        \n",
    "    \n",
    "class FokkerPlanck_1D:\n",
    "    \n",
    "    def __init__(self, X, mu, D, spatial_order=4):\n",
    "        '''\n",
    "        p ~ Fields\n",
    "        mu, D ~ Arrays\n",
    "        '''\n",
    "        self.X = X\n",
    "        self.p = self.X.field_list[0]\n",
    "        \n",
    "        self.domain = self.p.domain\n",
    "\n",
    "        pt = Field(self.domain)\n",
    "         \n",
    "        # generate derivatives\n",
    "\n",
    "        dmu_p_dx = FiniteDifferenceUniformGrid(1, spatial_order, p*mu)\n",
    "        dD_p_dx2 = FiniteDifferenceUniformGrid(2, spatial_order, p*D)\n",
    "        \n",
    "        \n",
    "        self.operators = [FP_diffusion_split(self.X, dmu_p_dx),\n",
    "                          FP_advection_split(self.X, dD_p_dx2)]\n",
    "            \n",
    "            \n",
    "        self.ts_list   = [CrankNicolson(self.operators[0],axis=0),\n",
    "                          PredictorCorrector(self.operators[1])]     \n",
    "        \n",
    "        self.t = 0.\n",
    "        self.iter = 0\n",
    "        \n",
    "    def step(self, dt):\n",
    "        # take a step\n",
    "        # update self.t and self.iter\n",
    "        \n",
    "        # diffusive terms commute, only have to strang split the other terms\n",
    "        self.ts_list[1].step(dt/2.)\n",
    "        self.ts_list[0].step(dt)\n",
    "        self.ts_list[1].step(dt/2.)\n",
    "            \n",
    "        \n",
    "        # update self.t and self.iter\n",
    "        self.t += dt\n",
    "        self.iter += 1        "
   ]
  },
  {
   "cell_type": "code",
   "execution_count": 52,
   "metadata": {},
   "outputs": [
    {
     "name": "stderr",
     "output_type": "stream",
     "text": [
      "C:\\Users\\Lindsey\\Anaconda3\\lib\\site-packages\\scipy\\sparse\\compressed.py:746: SparseEfficiencyWarning: Changing the sparsity structure of a csr_matrix is expensive. lil_matrix is more efficient.\n",
      "  SparseEfficiencyWarning)\n"
     ]
    }
   ],
   "source": [
    "resolution = 100\n",
    "alpha = .5\n",
    "spatial_order = 2\n",
    "\n",
    "grid = field.UniformPeriodicGrid(resolution,2*np.pi)\n",
    "domain = field.Domain([grid])\n",
    "x = domain.values()\n",
    "\n",
    "p = field.Field(domain)\n",
    "X = field.FieldSystem([p])\n",
    "\n",
    "r = np.array([x])-np.pi\n",
    "IC = np.exp(-r**2*16)\n",
    "p.data[:] = IC\n",
    "\n",
    "mu = field.Array(domain,np.zeros(p.data.shape))\n",
    "D = field.Array(domain,.01*np.ones(p.data.shape))\n",
    "\n",
    "diff = FokkerPlanck_1D(X,mu,D)\n",
    "\n",
    "tmax = 1-1e-5\n",
    "\n",
    "dt = alpha * grid.dx\n",
    "\n",
    "while diff.t < tmax:\n",
    "    diff.step(dt)"
   ]
  },
  {
   "cell_type": "code",
   "execution_count": 53,
   "metadata": {},
   "outputs": [
    {
     "data": {
      "text/plain": [
       "[<matplotlib.lines.Line2D at 0x28f00abd780>]"
      ]
     },
     "execution_count": 53,
     "metadata": {},
     "output_type": "execute_result"
    },
    {
     "data": {
      "image/png": "[encoded data removed]",
      "text/plain": [
       "<Figure size 432x288 with 1 Axes>"
      ]
     },
     "metadata": {},
     "output_type": "display_data"
    }
   ],
   "source": [
    "plt.plot(x[0],p.data)\n",
    "plt.plot(x[0],IC[0][0])"
   ]
  },
  {
   "cell_type": "code",
   "execution_count": 51,
   "metadata": {},
   "outputs": [
    {
     "data": {
      "text/plain": [
       "array([0., 0., 0., 0., 0., 0., 0., 0., 0., 0., 0., 0., 0., 0., 0., 0., 0.,\n",
       "       0., 0., 0., 0., 0., 0., 0., 0., 0., 0., 0., 0., 0., 0., 0., 0., 0.,\n",
       "       0., 0., 0., 0., 0., 0., 0., 0., 0., 0., 0., 0., 0., 0., 0., 0., 0.,\n",
       "       0., 0., 0., 0., 0., 0., 0., 0., 0., 0., 0., 0., 0., 0., 0., 0., 0.,\n",
       "       0., 0., 0., 0., 0., 0., 0., 0., 0., 0., 0., 0., 0., 0., 0., 0., 0.,\n",
       "       0., 0., 0., 0., 0., 0., 0., 0., 0., 0., 0., 0., 0., 0., 0.])"
      ]
     },
     "execution_count": 51,
     "metadata": {},
     "output_type": "execute_result"
    }
   ],
   "source": [
    "IC[0][0] - p.data"
   ]
  },
  {
   "cell_type": "code",
   "execution_count": null,
   "metadata": {},
   "outputs": [],
   "source": []
  }
 ],
 "metadata": {
  "kernelspec": {
   "display_name": "Python 3",
   "language": "python",
   "name": "python3"
  },
  "language_info": {
   "codemirror_mode": {
    "name": "ipython",
    "version": 3
   },
   "file_extension": ".py",
   "mimetype": "text/x-python",
   "name": "python",
   "nbconvert_exporter": "python",
   "pygments_lexer": "ipython3",
   "version": "3.6.5"
  }
 },
 "nbformat": 4,
 "nbformat_minor": 2
}
