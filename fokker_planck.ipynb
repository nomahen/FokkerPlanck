{
 "cells": [
  {
   "cell_type": "code",
   "execution_count": 1,
   "metadata": {},
   "outputs": [],
   "source": [
    "import numpy as np\n",
    "import matplotlib.pyplot as plt\n",
    "import field\n",
    "import spatial\n",
    "import timesteppers\n",
    "import scipy.sparse.linalg as spla\n",
    "from scipy import sparse\n",
    "\n",
    "from timesteppers import *\n",
    "\n",
    "from field import *\n",
    "from spatial import FiniteDifferenceUniformGrid\n",
    "\n",
    "%matplotlib inline"
   ]
  },
  {
   "cell_type": "markdown",
   "metadata": {},
   "source": [
    "### $ \\frac{\\partial p}{\\partial t} = - \\frac{\\partial}{\\partial x} [ \\mu(x,t) p(x,t) ] + \\frac{\\partial^2}{\\partial x^2} [ D(x,t) p(x,t) ]$"
   ]
  },
  {
   "cell_type": "code",
   "execution_count": 104,
   "metadata": {},
   "outputs": [],
   "source": [
    "class FP_diffusion:\n",
    "    \n",
    "    def __init__(self, X, dx2):\n",
    "        \n",
    "        self.X = X\n",
    "        p = X.field_list[0]        \n",
    "        self.domain = p.domain\n",
    "        \n",
    "        pt = Field(self.domain)\n",
    "        \n",
    "        LHS = pt - dx2 \n",
    "        \n",
    "        self.M = LHS.field_coeff(pt)\n",
    "        self.L = LHS.field_coeff(p)\n",
    "               \n",
    "class FP_drift:\n",
    "    \n",
    "    def __init__(self, X, dx):\n",
    "        \n",
    "        self.X = X\n",
    "        p = X.field_list[0]        \n",
    "        self.domain = p.domain\n",
    "\n",
    "        pt = Field(self.domain)\n",
    "        \n",
    "        LHS = pt + dx\n",
    "        \n",
    "        self.M = LHS.field_coeff(pt)\n",
    "        self.L = LHS.field_coeff(p)\n",
    "    \n",
    "class FokkerPlanck_1D:\n",
    "    \n",
    "    def __init__(self, X, mu, D, spatial_order=4):\n",
    "      \n",
    "        self.X = X\n",
    "        p = self.X.field_list[0]\n",
    "        self.domain = p.domain\n",
    "        \n",
    "        dx = FiniteDifferenceUniformGrid(1, spatial_order, p*mu)\n",
    "        dx2 = FiniteDifferenceUniformGrid(2, spatial_order, p*D)\n",
    "        \n",
    "        self.operators = [FP_drift(X, dx),\n",
    "                          FP_diffusion(X, dx2)] \n",
    "            \n",
    "        self.ts_list   = [CrankNicolson(self.operators[0],axis=0),\n",
    "                          CrankNicolson(self.operators[1],axis=0)]     \n",
    "        \n",
    "        self.t = 0.\n",
    "        self.iter = 0\n",
    "        \n",
    "    def step(self, dt):\n",
    "\n",
    "        self.ts_list[1].step(dt)\n",
    "        self.ts_list[0].step(dt)\n",
    "        #self.ts_list[0].step(dt/2.)\n",
    "        self.t += dt\n",
    "        self.iter += 1"
   ]
  },
  {
   "cell_type": "code",
   "execution_count": 138,
   "metadata": {},
   "outputs": [
    {
     "name": "stdout",
     "output_type": "stream",
     "text": [
      "(200,)\n"
     ]
    },
    {
     "name": "stderr",
     "output_type": "stream",
     "text": [
      "/home/fulya/packages/anaconda3/anaconda3/lib/python3.8/site-packages/scipy/sparse/_index.py:124: SparseEfficiencyWarning: Changing the sparsity structure of a csr_matrix is expensive. lil_matrix is more efficient.\n",
      "  self._set_arrayXarray(i, j, x)\n"
     ]
    }
   ],
   "source": [
    "resolution = 200\n",
    "alpha = .1\n",
    "spatial_order = 4\n",
    "\n",
    "grid = field.UniformPeriodicGrid(resolution,2*np.pi)\n",
    "domain = field.Domain([grid])\n",
    "x = domain.values()\n",
    "\n",
    "p = field.Field(domain)\n",
    "X = field.FieldSystem([p])\n",
    "r = np.array([x])-np.pi\n",
    "IC = np.exp(-r**2*8)\n",
    "p.data[:]=IC\n",
    "gamma=0.5\n",
    "#mu = field.Array(domain,0.5*np.ones(p.data.shape))\n",
    "D = field.Array(domain,0.1*np.ones(p.data.shape))\n",
    "\n",
    "mu= field.Array(domain,domain.grids[0].values*(gamma))\n",
    "print(p.data.shape)\n",
    "\n",
    "\n",
    "diff = FokkerPlanck_1D(X,mu,D)\n",
    "\n",
    "tmax = 1-1e-5\n",
    "\n",
    "dt = alpha * grid.dx\n",
    "\n",
    "while diff.t < tmax:\n",
    "    diff.step(dt)"
   ]
  },
  {
   "cell_type": "code",
   "execution_count": 139,
   "metadata": {},
   "outputs": [
    {
     "data": {
      "text/plain": [
       "[<matplotlib.lines.Line2D at 0x7f925f1b8cd0>]"
      ]
     },
     "execution_count": 139,
     "metadata": {},
     "output_type": "execute_result"
    },
    {
     "data": {
      "image/png": "[encoded data removed]",
      "text/plain": [
       "<Figure size 432x288 with 1 Axes>"
      ]
     },
     "metadata": {
      "needs_background": "light"
     },
     "output_type": "display_data"
    }
   ],
   "source": [
    "plt.plot(x[0],p.data)\n",
    "plt.plot(x[0],IC[0][0])"
   ]
  },
  {
   "cell_type": "code",
   "execution_count": 110,
   "metadata": {},
   "outputs": [
    {
     "name": "stdout",
     "output_type": "stream",
     "text": [
      "{'dimension': 1, 'grids': [<field.UniformPeriodicGrid object at 0x7f925f44bee0>], 'shape': [100]}\n"
     ]
    }
   ],
   "source": [
    "print(domain.__dict__)"
   ]
  },
  {
   "cell_type": "code",
   "execution_count": 119,
   "metadata": {},
   "outputs": [
    {
     "name": "stdout",
     "output_type": "stream",
     "text": [
      "[0.         0.06283185 0.12566371 0.18849556 0.25132741 0.31415927\n",
      " 0.37699112 0.43982297 0.50265482 0.56548668 0.62831853 0.69115038\n",
      " 0.75398224 0.81681409 0.87964594 0.9424778  1.00530965 1.0681415\n",
      " 1.13097336 1.19380521 1.25663706 1.31946891 1.38230077 1.44513262\n",
      " 1.50796447 1.57079633 1.63362818 1.69646003 1.75929189 1.82212374\n",
      " 1.88495559 1.94778745 2.0106193  2.07345115 2.136283   2.19911486\n",
      " 2.26194671 2.32477856 2.38761042 2.45044227 2.51327412 2.57610598\n",
      " 2.63893783 2.70176968 2.76460154 2.82743339 2.89026524 2.95309709\n",
      " 3.01592895 3.0787608  3.14159265 3.20442451 3.26725636 3.33008821\n",
      " 3.39292007 3.45575192 3.51858377 3.58141563 3.64424748 3.70707933\n",
      " 3.76991118 3.83274304 3.89557489 3.95840674 4.0212386  4.08407045\n",
      " 4.1469023  4.20973416 4.27256601 4.33539786 4.39822972 4.46106157\n",
      " 4.52389342 4.58672527 4.64955713 4.71238898 4.77522083 4.83805269\n",
      " 4.90088454 4.96371639 5.02654825 5.0893801  5.15221195 5.2150438\n",
      " 5.27787566 5.34070751 5.40353936 5.46637122 5.52920307 5.59203492\n",
      " 5.65486678 5.71769863 5.78053048 5.84336234 5.90619419 5.96902604\n",
      " 6.03185789 6.09468975 6.1575216  6.22035345]\n"
     ]
    }
   ],
   "source": [
    "print(domain.grids[0].values)"
   ]
  },
  {
   "cell_type": "code",
   "execution_count": null,
   "metadata": {},
   "outputs": [],
   "source": []
  }
 ],
 "metadata": {
  "kernelspec": {
   "display_name": "Python 3",
   "language": "python",
   "name": "python3"
  },
  "language_info": {
   "codemirror_mode": {
    "name": "ipython",
    "version": 3
   },
   "file_extension": ".py",
   "mimetype": "text/x-python",
   "name": "python",
   "nbconvert_exporter": "python",
   "pygments_lexer": "ipython3",
   "version": "3.8.3"
  }
 },
 "nbformat": 4,
 "nbformat_minor": 2
}
