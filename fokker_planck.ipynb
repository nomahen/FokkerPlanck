{
 "cells": [
  {
   "cell_type": "code",
   "execution_count": 1,
   "metadata": {},
   "outputs": [],
   "source": [
    "import numpy as np\n",
    "import matplotlib.pyplot as plt\n",
    "import field\n",
    "import spatial\n",
    "import timesteppers\n",
    "import scipy.sparse.linalg as spla\n",
    "from scipy import sparse\n",
    "\n",
    "from timesteppers import *\n",
    "\n",
    "from field import *\n",
    "from spatial import FiniteDifferenceUniformGrid\n",
    "\n",
    "%matplotlib inline"
   ]
  },
  {
   "cell_type": "markdown",
   "metadata": {},
   "source": [
    "### $ \\frac{\\partial p}{\\partial t} = - \\frac{\\partial}{\\partial x} [ \\mu(x,t) p(x,t) ] + \\frac{\\partial^2}{\\partial x^2} [ D(x,t) p(x,t) ]$"
   ]
  },
  {
   "cell_type": "code",
   "execution_count": 8,
   "metadata": {},
   "outputs": [],
   "source": [
    "class FP_diffusion:\n",
    "    \n",
    "    def __init__(self, X, dx2):\n",
    "        \n",
    "        self.X = X\n",
    "        p = X.field_list[0]        \n",
    "        self.domain = p.domain\n",
    "        \n",
    "        pt = Field(self.domain)\n",
    "        \n",
    "        LHS = pt - dx2 \n",
    "        \n",
    "        self.M = LHS.field_coeff(pt)\n",
    "        self.L = LHS.field_coeff(p)\n",
    "               \n",
    "class FP_drift:\n",
    "    \n",
    "    def __init__(self, X, dx):\n",
    "        \n",
    "        self.X = X\n",
    "        p = X.field_list[0]        \n",
    "        self.domain = p.domain\n",
    "\n",
    "        pt = Field(self.domain)\n",
    "        \n",
    "        LHS = pt + dx\n",
    "        \n",
    "        self.M = LHS.field_coeff(pt)\n",
    "        self.L = LHS.field_coeff(p)\n",
    "    \n",
    "class FokkerPlanck_1D:\n",
    "    \n",
    "    def __init__(self, X, mu, D, spatial_order=4):\n",
    "      \n",
    "        self.X = X\n",
    "        p = self.X.field_list[0]\n",
    "        self.domain = p.domain\n",
    "        \n",
    "        dx = FiniteDifferenceUniformGrid(1, spatial_order, p*mu)\n",
    "        dx2 = FiniteDifferenceUniformGrid(2, spatial_order, p*D)\n",
    "        \n",
    "        self.operators = [FP_drift(X, dx),\n",
    "                          FP_diffusion(X, dx2)] \n",
    "            \n",
    "        self.ts_list   = [CrankNicolson(self.operators[0],axis=0),\n",
    "                          CrankNicolson(self.operators[1],axis=0)]     \n",
    "        \n",
    "        self.t = 0.\n",
    "        self.iter = 0\n",
    "        \n",
    "    def step(self, dt):\n",
    "\n",
    "        self.ts_list[1].step(dt)\n",
    "        self.ts_list[0].step(dt)\n",
    "        #self.ts_list[0].step(dt/2.)\n",
    "        self.t += dt\n",
    "        self.iter += 1"
   ]
  },
  {
   "cell_type": "code",
   "execution_count": 11,
   "metadata": {},
   "outputs": [
    {
     "name": "stdout",
     "output_type": "stream",
     "text": [
      "(50,)\n",
      "N =  [50, 50]\n",
      "p shape (1, 50)\n"
     ]
    },
    {
     "name": "stderr",
     "output_type": "stream",
     "text": [
      "/home/nkaaz/.local/lib/python3.8/site-packages/scipy/sparse/_index.py:125: SparseEfficiencyWarning: Changing the sparsity structure of a csr_matrix is expensive. lil_matrix is more efficient.\n",
      "  self._set_arrayXarray(i, j, x)\n"
     ]
    }
   ],
   "source": [
    "resolution = 50\n",
    "alpha = .1\n",
    "spatial_order = 4\n",
    "\n",
    "grid = field.UniformPeriodicGrid(resolution,2*np.pi)\n",
    "domain = field.Domain([grid])\n",
    "x = domain.values()\n",
    "\n",
    "p = field.Field(domain)\n",
    "X = field.FieldSystem([p])\n",
    "r = np.array([x])-np.pi\n",
    "IC = np.exp(-r**2*8)\n",
    "p.data[:]=IC\n",
    "gamma=0.5\n",
    "#mu = field.Array(domain,0.5*np.ones(p.data.shape))\n",
    "D = field.Array(domain,0.1*np.ones(p.data.shape))\n",
    "\n",
    "mu= field.Array(domain,domain.grids[0].values*(gamma))\n",
    "\n",
    "new = mu*p\n",
    "new_field = new.operate()\n",
    "#print('new shape = ', np.shape(new.data))\n",
    "print(p.data.shape)\n",
    "\n",
    "print(\"N = \", [domain.grids[0].N]*2)\n",
    "print(\"p shape\", np.shape([p.data]))\n",
    "test_matrix = sparse.diags([p.data], [0], shape=[domain.grids[0].N]*2)\n",
    "diff = FokkerPlanck_1D(X,mu,D)\n",
    "\n",
    "tmax = 1-1e-5\n",
    "\n",
    "dt = alpha * grid.dx\n",
    "\n",
    "while diff.t < tmax:\n",
    "    diff.step(dt)"
   ]
  },
  {
   "cell_type": "code",
   "execution_count": 12,
   "metadata": {},
   "outputs": [
    {
     "data": {
      "text/plain": [
       "[<matplotlib.lines.Line2D at 0x7f63474c6e50>]"
      ]
     },
     "execution_count": 12,
     "metadata": {},
     "output_type": "execute_result"
    },
    {
     "data": {
      "image/png": "[encoded data removed]",
      "text/plain": [
       "<Figure size 432x288 with 1 Axes>"
      ]
     },
     "metadata": {
      "needs_background": "light"
     },
     "output_type": "display_data"
    }
   ],
   "source": [
    "plt.plot(x[0],p.data)\n",
    "plt.plot(x[0],IC[0][0])"
   ]
  },
  {
   "cell_type": "code",
   "execution_count": 44,
   "metadata": {},
   "outputs": [
    {
     "name": "stdout",
     "output_type": "stream",
     "text": [
      "{'dimension': 1, 'grids': [<field.UniformPeriodicGrid object at 0x7f111f542e80>], 'shape': [200]}\n"
     ]
    }
   ],
   "source": [
    "print(domain.__dict__)"
   ]
  },
  {
   "cell_type": "code",
   "execution_count": 45,
   "metadata": {},
   "outputs": [
    {
     "name": "stdout",
     "output_type": "stream",
     "text": [
      "[0.         0.03141593 0.06283185 0.09424778 0.12566371 0.15707963\n",
      " 0.18849556 0.21991149 0.25132741 0.28274334 0.31415927 0.34557519\n",
      " 0.37699112 0.40840704 0.43982297 0.4712389  0.50265482 0.53407075\n",
      " 0.56548668 0.5969026  0.62831853 0.65973446 0.69115038 0.72256631\n",
      " 0.75398224 0.78539816 0.81681409 0.84823002 0.87964594 0.91106187\n",
      " 0.9424778  0.97389372 1.00530965 1.03672558 1.0681415  1.09955743\n",
      " 1.13097336 1.16238928 1.19380521 1.22522113 1.25663706 1.28805299\n",
      " 1.31946891 1.35088484 1.38230077 1.41371669 1.44513262 1.47654855\n",
      " 1.50796447 1.5393804  1.57079633 1.60221225 1.63362818 1.66504411\n",
      " 1.69646003 1.72787596 1.75929189 1.79070781 1.82212374 1.85353967\n",
      " 1.88495559 1.91637152 1.94778745 1.97920337 2.0106193  2.04203522\n",
      " 2.07345115 2.10486708 2.136283   2.16769893 2.19911486 2.23053078\n",
      " 2.26194671 2.29336264 2.32477856 2.35619449 2.38761042 2.41902634\n",
      " 2.45044227 2.4818582  2.51327412 2.54469005 2.57610598 2.6075219\n",
      " 2.63893783 2.67035376 2.70176968 2.73318561 2.76460154 2.79601746\n",
      " 2.82743339 2.85884931 2.89026524 2.92168117 2.95309709 2.98451302\n",
      " 3.01592895 3.04734487 3.0787608  3.11017673 3.14159265 3.17300858\n",
      " 3.20442451 3.23584043 3.26725636 3.29867229 3.33008821 3.36150414\n",
      " 3.39292007 3.42433599 3.45575192 3.48716785 3.51858377 3.5499997\n",
      " 3.58141563 3.61283155 3.64424748 3.6756634  3.70707933 3.73849526\n",
      " 3.76991118 3.80132711 3.83274304 3.86415896 3.89557489 3.92699082\n",
      " 3.95840674 3.98982267 4.0212386  4.05265452 4.08407045 4.11548638\n",
      " 4.1469023  4.17831823 4.20973416 4.24115008 4.27256601 4.30398194\n",
      " 4.33539786 4.36681379 4.39822972 4.42964564 4.46106157 4.49247749\n",
      " 4.52389342 4.55530935 4.58672527 4.6181412  4.64955713 4.68097305\n",
      " 4.71238898 4.74380491 4.77522083 4.80663676 4.83805269 4.86946861\n",
      " 4.90088454 4.93230047 4.96371639 4.99513232 5.02654825 5.05796417\n",
      " 5.0893801  5.12079603 5.15221195 5.18362788 5.2150438  5.24645973\n",
      " 5.27787566 5.30929158 5.34070751 5.37212344 5.40353936 5.43495529\n",
      " 5.46637122 5.49778714 5.52920307 5.560619   5.59203492 5.62345085\n",
      " 5.65486678 5.6862827  5.71769863 5.74911456 5.78053048 5.81194641\n",
      " 5.84336234 5.87477826 5.90619419 5.93761012 5.96902604 6.00044197\n",
      " 6.03185789 6.06327382 6.09468975 6.12610567 6.1575216  6.18893753\n",
      " 6.22035345 6.25176938]\n"
     ]
    }
   ],
   "source": [
    "print(domain.grids[0].values)"
   ]
  },
  {
   "cell_type": "code",
   "execution_count": 2,
   "metadata": {},
   "outputs": [],
   "source": [
    "class FP_diffusion_2D:\n",
    "    \n",
    "    def __init__(self, X, dx2, dy2):\n",
    "        \n",
    "        self.X = X\n",
    "        p = X.field_list[0]        \n",
    "        self.domain = p.domain\n",
    "        \n",
    "        pt = Field(self.domain)\n",
    "        \n",
    "        LHS = pt - dx2 - dy2\n",
    "        \n",
    "        self.M = LHS.field_coeff(pt)\n",
    "        self.L = LHS.field_coeff(p)\n",
    "        \n",
    "        #self.F_ops = [dx2+dy2]\n",
    "               \n",
    "class FP_drift_2D:\n",
    "    \n",
    "    def __init__(self, X, dx, dy):\n",
    "        \n",
    "        self.X = X\n",
    "        p = X.field_list[0]        \n",
    "        self.domain = p.domain\n",
    "\n",
    "        pt = Field(self.domain)\n",
    "        \n",
    "        LHS = pt + dx + dy\n",
    "        \n",
    "        self.M = LHS.field_coeff(pt)\n",
    "        self.L = LHS.field_coeff(p)\n",
    "        \n",
    "        #self.F_ops = []\n",
    "        #self.F_ops = [-dx - dy]\n",
    "    \n",
    "\n",
    "    \n",
    "class FokkerPlanck_2D:\n",
    "    \n",
    "    def __init__(self, X, mu, D, spatial_order=4):\n",
    "      \n",
    "        self.X = X\n",
    "        p = self.X.field_list[0]\n",
    "        self.domain = p.domain\n",
    "        print(type(mu),type(FiniteDifferenceUniformGrid(1, spatial_order, p, axis=0)))\n",
    "        dx = mu*FiniteDifferenceUniformGrid(1, spatial_order, p, axis=0)\n",
    "        dx2 = D*FiniteDifferenceUniformGrid(2, spatial_order, p, axis=0)\n",
    "        dy = mu*FiniteDifferenceUniformGrid(1, spatial_order, p, axis=1)\n",
    "        dy2 = D*FiniteDifferenceUniformGrid(2, spatial_order, p, axis=1)\n",
    "        \n",
    "        #self.operators = [FP_drift_2D(X, dx, dy),\n",
    "        #                  FP_diffusion_2D(X, dx2, dy2)] \n",
    "        \n",
    "        p = X.field_list[0]        \n",
    "        self.domain = p.domain\n",
    "\n",
    "        pt = Field(self.domain)\n",
    "        \n",
    "        LHS = pt + dx + dy - dx2 - dy2\n",
    "        \n",
    "        self.M = LHS.field_coeff(pt)\n",
    "        self.L = LHS.field_coeff(p)\n",
    "        \n",
    "        self.ts = CrankNicolson(self,axis='full')\n",
    "        \n",
    "        self.t = 0.\n",
    "        self.iter = 0\n",
    "        \n",
    "    def step(self, dt):\n",
    "\n",
    "        self.ts.step(dt)\n",
    "        self.t += dt\n",
    "        self.iter += 1"
   ]
  },
  {
   "cell_type": "code",
   "execution_count": 3,
   "metadata": {},
   "outputs": [
    {
     "name": "stderr",
     "output_type": "stream",
     "text": [
      "/home/nkaaz/.local/lib/python3.8/site-packages/scipy/sparse/_index.py:125: SparseEfficiencyWarning: Changing the sparsity structure of a csr_matrix is expensive. lil_matrix is more efficient.\n",
      "  self._set_arrayXarray(i, j, x)\n"
     ]
    },
    {
     "name": "stdout",
     "output_type": "stream",
     "text": [
      "<class 'field.Array'> <class 'spatial.FiniteDifferenceUniformGrid'>\n"
     ]
    }
   ],
   "source": [
    "resolution = 50\n",
    "alpha = .1\n",
    "spatial_order = 4\n",
    "\n",
    "grid_x = field.UniformPeriodicGrid(resolution,2*np.pi)\n",
    "grid_y = field.UniformPeriodicGrid(resolution,2*np.pi)\n",
    "domain = field.Domain((grid_x, grid_y))\n",
    "\n",
    "\n",
    "x, y = domain.values()\n",
    "#print(np.shape(x[0]))\n",
    "\n",
    "p = field.Field(domain)\n",
    "X = field.FieldSystem([p])\n",
    "r = x-np.pi\n",
    "IC = np.exp(-r**2*8)\n",
    "p.data[:]=IC\n",
    "gamma=0.5\n",
    "mu = field.Array(domain,0.5*np.ones(p.data.shape))\n",
    "D = field.Array(domain,0.1*np.ones(p.data.shape))\n",
    "\n",
    "\n",
    "gamma *= np.ones(resolution)\n",
    "mu = field.Array(domain,domain.grids[0].values[:,None]*(gamma))\n",
    "\n",
    "\n",
    "\n",
    "\n",
    "diff = FokkerPlanck_2D(X,mu,D)\n",
    "\n",
    "tmax = 1-1e-5\n",
    "\n",
    "dt = alpha * domain.grids[0].dx\n",
    "\n",
    "while diff.t < tmax:\n",
    "    diff.step(dt)\n",
    "    \n",
    "# matrix shape is =  (200, 200) matrix sig =  [1, 0] array shape is =  (200,) arr_sig =  [0] out_sig =  [1]"
   ]
  },
  {
   "cell_type": "code",
   "execution_count": 4,
   "metadata": {},
   "outputs": [
    {
     "name": "stdout",
     "output_type": "stream",
     "text": [
      "(50,) (50,)\n"
     ]
    },
    {
     "data": {
      "text/plain": [
       "[<matplotlib.lines.Line2D at 0x7f634482ddc0>]"
      ]
     },
     "execution_count": 4,
     "metadata": {},
     "output_type": "execute_result"
    },
    {
     "data": {
      "image/png": "[encoded data removed]",
      "text/plain": [
       "<Figure size 432x288 with 1 Axes>"
      ]
     },
     "metadata": {
      "needs_background": "light"
     },
     "output_type": "display_data"
    }
   ],
   "source": [
    "print(np.shape(x[:,0]), np.shape(p.data[:,0]))\n",
    "plt.plot(x[:,0],p.data[:,5])\n",
    "plt.plot(x[:,0],IC[:,0])"
   ]
  },
  {
   "cell_type": "code",
   "execution_count": 13,
   "metadata": {},
   "outputs": [
    {
     "name": "stdout",
     "output_type": "stream",
     "text": [
      "(50, 50)\n",
      "[[2500. 2500. 2500. ... 2500. 2500. 2500.]\n",
      " [2500. 2500. 2500. ... 2500. 2500. 2500.]\n",
      " [2500. 2500. 2500. ... 2500. 2500. 2500.]\n",
      " ...\n",
      " [2500. 2500. 2500. ... 2500. 2500. 2500.]\n",
      " [2500. 2500. 2500. ... 2500. 2500. 2500.]\n",
      " [2500. 2500. 2500. ... 2500. 2500. 2500.]]\n",
      "[[[1. 1. 1. ... 1. 1. 1.]\n",
      "  [1. 1. 1. ... 1. 1. 1.]\n",
      "  [1. 1. 1. ... 1. 1. 1.]\n",
      "  ...\n",
      "  [1. 1. 1. ... 1. 1. 1.]\n",
      "  [1. 1. 1. ... 1. 1. 1.]\n",
      "  [1. 1. 1. ... 1. 1. 1.]]\n",
      "\n",
      " [[1. 1. 1. ... 1. 1. 1.]\n",
      "  [1. 1. 1. ... 1. 1. 1.]\n",
      "  [1. 1. 1. ... 1. 1. 1.]\n",
      "  ...\n",
      "  [1. 1. 1. ... 1. 1. 1.]\n",
      "  [1. 1. 1. ... 1. 1. 1.]\n",
      "  [1. 1. 1. ... 1. 1. 1.]]\n",
      "\n",
      " [[1. 1. 1. ... 1. 1. 1.]\n",
      "  [1. 1. 1. ... 1. 1. 1.]\n",
      "  [1. 1. 1. ... 1. 1. 1.]\n",
      "  ...\n",
      "  [1. 1. 1. ... 1. 1. 1.]\n",
      "  [1. 1. 1. ... 1. 1. 1.]\n",
      "  [1. 1. 1. ... 1. 1. 1.]]\n",
      "\n",
      " ...\n",
      "\n",
      " [[1. 1. 1. ... 1. 1. 1.]\n",
      "  [1. 1. 1. ... 1. 1. 1.]\n",
      "  [1. 1. 1. ... 1. 1. 1.]\n",
      "  ...\n",
      "  [1. 1. 1. ... 1. 1. 1.]\n",
      "  [1. 1. 1. ... 1. 1. 1.]\n",
      "  [1. 1. 1. ... 1. 1. 1.]]\n",
      "\n",
      " [[1. 1. 1. ... 1. 1. 1.]\n",
      "  [1. 1. 1. ... 1. 1. 1.]\n",
      "  [1. 1. 1. ... 1. 1. 1.]\n",
      "  ...\n",
      "  [1. 1. 1. ... 1. 1. 1.]\n",
      "  [1. 1. 1. ... 1. 1. 1.]\n",
      "  [1. 1. 1. ... 1. 1. 1.]]\n",
      "\n",
      " [[1. 1. 1. ... 1. 1. 1.]\n",
      "  [1. 1. 1. ... 1. 1. 1.]\n",
      "  [1. 1. 1. ... 1. 1. 1.]\n",
      "  ...\n",
      "  [1. 1. 1. ... 1. 1. 1.]\n",
      "  [1. 1. 1. ... 1. 1. 1.]\n",
      "  [1. 1. 1. ... 1. 1. 1.]]]\n"
     ]
    }
   ],
   "source": [
    "test_matrix = np.ones((50,50,2500))\n",
    "flattened_data = np.ones((2500))\n",
    "new = test_matrix @ flattened_data\n",
    "print(np.shape(new))\n",
    "print(new)\n",
    "print(test_matrix)"
   ]
  },
  {
   "cell_type": "code",
   "execution_count": 24,
   "metadata": {},
   "outputs": [
    {
     "name": "stdout",
     "output_type": "stream",
     "text": [
      "[[2. 2. 2. ... 2. 2. 2.]\n",
      " [2. 2. 2. ... 2. 2. 2.]\n",
      " [2. 2. 2. ... 2. 2. 2.]\n",
      " ...\n",
      " [2. 2. 2. ... 2. 2. 2.]\n",
      " [2. 2. 2. ... 2. 2. 2.]\n",
      " [2. 2. 2. ... 2. 2. 2.]]\n",
      "(2500,) [2. 2. 2. ... 2. 2. 2.]\n",
      "[[[2. 0. 0. ... 0. 0. 0.]\n",
      "  [0. 2. 0. ... 0. 0. 0.]\n",
      "  [0. 0. 2. ... 0. 0. 0.]\n",
      "  ...\n",
      "  [0. 0. 0. ... 0. 0. 0.]\n",
      "  [0. 0. 0. ... 0. 0. 0.]\n",
      "  [0. 0. 0. ... 0. 0. 0.]]\n",
      "\n",
      " [[0. 0. 0. ... 0. 0. 0.]\n",
      "  [0. 0. 0. ... 0. 0. 0.]\n",
      "  [0. 0. 0. ... 0. 0. 0.]\n",
      "  ...\n",
      "  [0. 0. 0. ... 0. 0. 0.]\n",
      "  [0. 0. 0. ... 0. 0. 0.]\n",
      "  [0. 0. 0. ... 0. 0. 0.]]\n",
      "\n",
      " [[0. 0. 0. ... 0. 0. 0.]\n",
      "  [0. 0. 0. ... 0. 0. 0.]\n",
      "  [0. 0. 0. ... 0. 0. 0.]\n",
      "  ...\n",
      "  [0. 0. 0. ... 0. 0. 0.]\n",
      "  [0. 0. 0. ... 0. 0. 0.]\n",
      "  [0. 0. 0. ... 0. 0. 0.]]\n",
      "\n",
      " ...\n",
      "\n",
      " [[0. 0. 0. ... 0. 0. 0.]\n",
      "  [0. 0. 0. ... 0. 0. 0.]\n",
      "  [0. 0. 0. ... 0. 0. 0.]\n",
      "  ...\n",
      "  [0. 0. 0. ... 0. 0. 0.]\n",
      "  [0. 0. 0. ... 0. 0. 0.]\n",
      "  [0. 0. 0. ... 0. 0. 0.]]\n",
      "\n",
      " [[0. 0. 0. ... 0. 0. 0.]\n",
      "  [0. 0. 0. ... 0. 0. 0.]\n",
      "  [0. 0. 0. ... 0. 0. 0.]\n",
      "  ...\n",
      "  [0. 0. 0. ... 0. 0. 0.]\n",
      "  [0. 0. 0. ... 0. 0. 0.]\n",
      "  [0. 0. 0. ... 0. 0. 0.]]\n",
      "\n",
      " [[0. 0. 0. ... 0. 0. 0.]\n",
      "  [0. 0. 0. ... 0. 0. 0.]\n",
      "  [0. 0. 0. ... 0. 0. 0.]\n",
      "  ...\n",
      "  [0. 0. 0. ... 2. 0. 0.]\n",
      "  [0. 0. 0. ... 0. 2. 0.]\n",
      "  [0. 0. 0. ... 0. 0. 2.]]]\n"
     ]
    }
   ],
   "source": [
    "\n",
    "twoD_array = np.ones((50,50))*2.\n",
    "\n",
    "print(twoD_array)\n",
    "twoD_array_flat = twoD_array.reshape(np.prod(twoD_array.shape))\n",
    "print(twoD_array_flat.shape, twoD_array_flat)\n",
    "\n",
    "#print([50]*2)\n",
    "test_matrix_sparse = sparse.diags([twoD_array_flat], [0], shape=[2500, 2500])\n",
    "#test_matrix = test_matrix_sparse.A\n",
    "\n",
    "#test_matrix_reshaped = test_matrix.reshape((50,50,2500))\n",
    "print(test_matrix_reshaped)"
   ]
  }
 ],
 "metadata": {
  "kernelspec": {
   "display_name": "Python 3",
   "language": "python",
   "name": "python3"
  },
  "language_info": {
   "codemirror_mode": {
    "name": "ipython",
    "version": 3
   },
   "file_extension": ".py",
   "mimetype": "text/x-python",
   "name": "python",
   "nbconvert_exporter": "python",
   "pygments_lexer": "ipython3",
   "version": "3.8.5"
  }
 },
 "nbformat": 4,
 "nbformat_minor": 4
}
