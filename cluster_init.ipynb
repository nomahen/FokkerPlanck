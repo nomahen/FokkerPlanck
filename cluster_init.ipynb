{
 "cells": [
  {
   "cell_type": "code",
   "execution_count": 1,
   "metadata": {},
   "outputs": [],
   "source": [
    "import numpy as np\n",
    "import matplotlib.pyplot as plt\n",
    "%matplotlib inline"
   ]
  },
  {
   "cell_type": "markdown",
   "metadata": {},
   "source": [
    "### Initial condition is some distribution $f_0(r, \\vec{v}) = f(r, \\vec{v}, 0)$ (which can equivalently be expressed in terms of energy and angular momentum)"
   ]
  },
  {
   "cell_type": "markdown",
   "metadata": {},
   "source": [
    "### Plummer model\n",
    "### $\\rho_P(r) = \\frac{3M_0}{4\\pi r_0^3}\\left(1 + \\frac{r^2}{r_0^2}\\right)^{-5/2}$\n",
    "### $\\Phi_P(r) = \\frac{GM_0}{\\sqrt{r^2 + r_0^2}}$\n",
    "### Black hole nuclear cluster\n",
    "### $\\Phi_{NC}(r) = \\frac{GM_{\\rm BH}}{r}$"
   ]
  },
  {
   "cell_type": "markdown",
   "metadata": {},
   "source": [
    "### Energy / Angular Momentum Bounds\n",
    "### $E = \\Phi(r) - \\frac{1}{2}v^2$\n",
    "### $E_{\\rm min} = 0$\n",
    "### $E_{\\rm max} = \\Phi_P(r=0) = \\frac{-GM_0}{r_0}$\n",
    "### $R \\equiv J^2/J_c^2$\n",
    "### $J_c$ is the specific angular momentum of a circular orbit, so even though $J = J(E)$, $R$ is always bounded between $0$ and $1$\n",
    "### $J = r|\\hat{r}\\times\\vec{v}|$\n",
    "### $R_{\\rm min} = 0$\n",
    "### $R_{\\rm max} = 1$"
   ]
  },
  {
   "cell_type": "markdown",
   "metadata": {},
   "source": [
    "### How to convert between code grid $E$, $R$ and physical position $r$, velocity vector $\\vec{v}$?\n",
    "### $N(E,R)dEdR = \\int_{r_-}^{r_+} 4\\pi r^2 dr(fd^3v)$ (Eq. 17 of Cohn+Kulsrud 1978)"
   ]
  },
  {
   "cell_type": "code",
   "execution_count": 2,
   "metadata": {},
   "outputs": [],
   "source": [
    "def plummer_distribution(r, r0, M0):\n",
    "    # https://en.wikipedia.org/wiki/Plummer_model#:~:text=The%20Plummer%20model%20or%20Plummer,body%20simulations%20of%20stellar%20systems.\n",
    "    return (3*M0/(4*np.pi*r0**3.))*(1. + r*r/r0/r0)**(-5./2.)\n",
    "\n",
    "def bh_potential(r, Mbh):\n",
    "    return Mbh/r\n",
    "\n"
   ]
  },
  {
   "cell_type": "code",
   "execution_count": 3,
   "metadata": {},
   "outputs": [],
   "source": [
    "def generate_distribution(rmin, rmax, r0, p_type='plummer', v_type='isotropic'):\n",
    "    \n",
    "    if p_type == 'plummer':\n",
    "        rho = plummer_distribution(r, r0, 1)"
   ]
  },
  {
   "cell_type": "markdown",
   "metadata": {},
   "source": [
    "### Equations 3-4 of of Takahashi 1995\n",
    "### $A\\frac{\\partial f}{\\partial t} = - \\frac{\\partial F_E}{\\partial E} - \\frac{\\partial F_R}{\\partial R}$\n",
    "### $-F_E = D_{EE}\\frac{\\partial f}{\\partial E} + D_{ER}\\frac{\\partial f}{\\partial R} + D_E f$\n",
    "### $-F_R = D_{RE}\\frac{\\partial f}{\\partial E} + D_{RR}\\frac{\\partial f}{\\partial R} + D_R f$\n",
    "### Appendix C of Cohn 1979\n",
    "### $D_{EE} = \\frac{8\\pi^2}{3}J_c^2(E) \\int \\frac{dr}{v_r}v^2(F_0 + F_2)$\n",
    "### $D_E = -8\\pi^2J_c^2(E) \\int \\frac{dr}{v_r}F_1$\n",
    "### $D_{ER} = D_{RE} = \\frac{16\\pi^2}{3}J^2\\int \\frac{dr}{v_r} \\left(\\frac{v^2}{v_c^2} - 1\\right)(F_0 + F_2)$\n",
    "### $D_{RR} = \\frac{16\\pi^2}{3}R\\int\\frac{dr}{v^2}\\left\\{2\\frac{r^2}{v^2}\\left[v_t^2\\left(\\frac{v^2}{v_c^2} - 1\\right)^2 + v_r^2\\right]F_0 + 3\\frac{r^2v_r^2}{v^2}F_1 + \\frac{r^2}{v^2}\\left[2v_t^2\\left(\\frac{v^2}{v_c^2}-1\\right)^2 - v_r^2\\right]F_2\\right\\}$\n",
    "### $D_R    = -16\\pi^2 R r_c^2 \\int \\frac{dr}{v_r}\\left(1 - \\frac{v_c^2}{v^2}\\right)F_1$\n",
    "### Appendix B of Cohn 1979\n",
    "### $F_0(E,r) = 4\\pi\\Gamma \\int_{-\\infty}^E dE' \\bar{f}(E',r)$\n",
    "### $F_1(E,r) = 4\\pi\\Gamma \\int_E^\\phi dE'\\bar{f}(E',r)\\left(\\frac{\\phi - E'}{\\phi - E}\\right)^{1/2} = -4\\pi\\Gamma \\left(\\phi - E\\right)^{-1/2}\\int_\\phi^E dE'\\bar{f}(E',r)\\left(\\phi - E'\\right)^{1/2}$\n",
    "### $F_2(E,r) = 4\\pi\\Gamma \\int_E^\\phi dE'\\bar{f}(E',r)\\left(\\frac{\\phi-E'}{\\phi - E}\\right)^{3/2}$\n",
    "### $\\Gamma = 4\\pi G^2m^2 {\\rm ln}\\Lambda$\n",
    "### ${\\rm ln}\\Lambda$ ~ logarithmic cutoff factor (?)\n",
    "### Equation 16 of Cohn 1979\n",
    "### $\\bar{f}(E,r) = \\frac{1}{2R_{\\rm max}^{1/2}}\\int_0^{R_{\\rm max}} \\frac{dR}{(R_{\\rm max} - R)^{1/2}}f(E,R)$\n",
    "### $R_{\\rm max}(E,r) = 2r^2[\\Phi(r) - E]/J_c^2$"
   ]
  },
  {
   "cell_type": "markdown",
   "metadata": {},
   "source": [
    "### We need to choose a radial grid to construct $\\bar{f}(E,r)$. This will later be used if we solve the Poisson equation, as well. \n",
    "### For a Plummer potential we can follow Takahashi 1995, who take $r_{\\rm min} = 10^{-8}\\,r_0$ and $r_{\\rm max} = 100\\,r_0$, where $r_0$ is the core radius of the Plummer potential\n",
    "### For a central SMBH, we can follow Cohn 1978, who ()"
   ]
  },
  {
   "cell_type": "code",
   "execution_count": 203,
   "metadata": {},
   "outputs": [],
   "source": [
    "from scipy.integrate import trapz, cumtrapz\n",
    "\n",
    "def calc_fbar(f,grid_r):\n",
    "    \n",
    "    grid_E = f.domain.grids[0]\n",
    "    grid_R = f.domain.grids[1]\n",
    "    fbar_domain = field.Domain((grid_E, grid_r))\n",
    "    fbar = field.Field(fbar_domain)\n",
    "    \n",
    "    E_data = np.copy(grid_E.values)\n",
    "    R_data = np.copy(grid_R.values)\n",
    "    r_data = np.copy(grid_r.values)\n",
    "    \n",
    "    \n",
    "    # Construct an integrand that is a 3D grid in (E, r, R) space; trapz() will integrate out the R dimension. \n",
    "    integrand_r = r_data[None,:,None]\n",
    "    integrand_E = E_data[:,None,None]\n",
    "    \n",
    "    Jc   = np.sqrt(dpotential_dr(integrand_r)*integrand_r**3.)\n",
    "    Rmax = 2*integrand_r*(potential(integrand_r)-integrand_E)/Jc**2.\n",
    "    \n",
    "    # R varies from 0 to Rmax. Assume R grid starts at 0!\n",
    "    integrand_R = R_data[None,None,:]\n",
    "    integrand_f = f.values[:,None,:] # add middle axis to f for r dimension\n",
    "    integrand = (integrand_R<Rmax)*integrand_f/(Rmax - integrand_R)**0.5\n",
    "    \n",
    "    # for output data\n",
    "    np.copyto(fbar.data, (1./2./Rmax[:,:,0]**0.5)*trapz(integrand, integrand_R, axis=-1))\n",
    "    \n",
    "    return fbar\n",
    "\n",
    "def calc_F012(fbar):\n",
    "    Lambda = 0.4*self.N\n",
    "    Gamma = 4*pi*G*G*m*m*np.log(Lambda) # Lambda ~ logarithmic cutoff factor, G ~ gravitational constant, m ~ mass of individual star\n",
    "    \n",
    "    grid_E = fbar.domain.grids[0]\n",
    "    grid_r = fbar.domain.grids[1]    \n",
    " \n",
    "    # Check to make sure arrays dont occupy same place in memory. the '[:]' part does this for us, I think?\n",
    "    E_data = np.copy(grid_E.values)\n",
    "    Eprime_Data = np.copy(E_data)\n",
    "    r_data = np.copy(grid_r.values)\n",
    "    pot = potential(r_data)[None,:,None]\n",
    "\n",
    "    ### F0\n",
    "    F0_integrand = np.copy(fbar.data)*(Eprime_data[None,None,:]<E_data[:,None,None])\n",
    "    F0 = 4*np.pi*Gamma*trapz(F0_integrand, Eprime_data[None,None,:],axis=-1)\n",
    "    \n",
    "    ### F1\n",
    "    F1_integrand = fbar.data * ((pot - Eprime_data[None,None,:])/(pot - E_data[:,None,None]))**(0.5)\n",
    "    F1 = 4*np.pi*Gamma*trapz(F1_integrand, Eprime_data[None,None,:],axis=-1)\n",
    "    \n",
    "    ### F2\n",
    "    F2_integrand = fbar.data * ((pot - Eprime_data[None,None,:])/(pot - E_data[:,None,None]))**(1.5)\n",
    "    F2 = 4*np.pi*Gamma*trapz(F2_integrand, Eprime_data[None,None,:],axis=-1)    \n",
    "    \n",
    "    return F0, F1, F2\n",
    "\n",
    "def calc_diffusion_coefficients(f, fbar, F0, F1, F2):\n",
    "    grid_E = fbar.domain.grids[0]\n",
    "    grid_R = f.domain.grids[1]\n",
    "    grid_r = fbar.domain.grids[1]\n",
    "    \n",
    "    E = grid_E[:,None,None]\n",
    "    R = grid_R[None,:,None]\n",
    "    r = grid_r[None,None,:]\n",
    "    \n",
    "    # Need to calculate: vc, vt, vr, v, Jc, J\n",
    "    Jc   = np.sqrt(dpotential_dr(r)*r**3.) # angular momentum of circular orbit at given radius\n",
    "    rc   = E/(2*G*M)                       # circular radius associated with E (E is the negative specific energy, i.e. is positive for all bound orbits)\n",
    "    # R = J/Jc\n",
    "    J    = r*Jc                  # angular momentum\n",
    "    pot  = potential(r)          # potential energy (positive)\n",
    "    v2   = 2*(pot - E)           # total velocity squared\n",
    "    vr   = (v2 - J*J/r/r)**(0.5) # radial velocity\n",
    "    vt   = (v2 - vr*vr)**(0.5)   # tangential velocity\n",
    "    vc   = Jc*Jc/rc/rc           # tangential velocity associated with a circular orbit\n",
    "    \n",
    "    # calculate integrals\n",
    "    \n",
    "    ## Appendix C of Cohn 1979\n",
    "    # D_EE  \n",
    "    D_EE_integrand = (1./vr)*v2*(F0[:,None,:]+F2[:,None,:])\n",
    "    D_EE           = 8*np.pi*np.pi/3*Jc*Jc * trapz(D_EE_integrand, r, axis = -1)\n",
    "    \n",
    "    # D_E\n",
    "    D_E_integrand  = F1[:,None,:]/vr\n",
    "    D_E            = -8.*np.pi*np.pi*Jc*Jc * trapz(D_E_integrand, r, axis = -1)\n",
    "    \n",
    "    # D_ER\n",
    "    D_ER_integrand = (v2/vc/vc - 1)/vr * (F0[:,None,:]+F2[:,None,:])\n",
    "    D_ER           = 16*np.pi*np.pi/3.*J*J * trapz(D_ER_integrand, r, axis = -1)\n",
    "    \n",
    "    # D_RR\n",
    "    D_RR_integrand = (1./v2)*(2*r*r/v2 * ( vt*vt*(v2/vc/vc - 1)**2. + vr*vr)*F0[:,None,:] + 3*r*r*vr*vr/v2*F1[:,None,:] + r*r/v2*(2*vt*vt*(v2/vc/vc - 1)**2. - vr*vr)*F2[:,None,:])\n",
    "    D_RR           = 16*np.pi*np.pi/3. * R * trapz(D_RR_integrand, r, axis = -1)\n",
    "    \n",
    "    # D_R\n",
    "    D_R_integrand  = (1./vr)*(1. - vc*vc/v2)*F1[:,None,:]\n",
    "    D_R            = -16*np.pi*np.pi*R*rc*rc * trapz(D_R_integrand, r, axis = -1)\n",
    "    \n",
    "    return D_EE, D_E, D_ER, D_RR, D_R"
   ]
  },
  {
   "cell_type": "code",
   "execution_count": 8,
   "metadata": {},
   "outputs": [
    {
     "name": "stdout",
     "output_type": "stream",
     "text": [
      "[0 1 2 3 4 5 6 7 8 9] [0 1 2 3 4 5 6 7 8 9]\n",
      "[[0 1 2 3 4 5 6 7 8 9]\n",
      " [0 1 2 3 4 5 6 7 8 9]\n",
      " [0 1 2 3 4 5 6 7 8 9]\n",
      " [0 1 2 3 4 5 6 7 8 9]\n",
      " [0 1 2 3 4 5 6 7 8 9]\n",
      " [0 1 2 3 4 5 6 7 8 9]\n",
      " [0 1 2 3 4 5 6 7 8 9]\n",
      " [0 1 2 3 4 5 6 7 8 9]\n",
      " [0 1 2 3 4 5 6 7 8 9]\n",
      " [0 1 2 3 4 5 6 7 8 9]]\n",
      "[9. 9. 9. 9. 9. 9. 9. 9. 9. 9.]\n",
      "(10,)\n"
     ]
    }
   ],
   "source": [
    "x = np.arange(0,10)\n",
    "y = np.arange(0,10)\n",
    "\n",
    "print(x,y)\n",
    "X, Y = np.meshgrid(x,y)\n",
    "\n",
    "R = 1./(1. + Y**2.)\n",
    "\n",
    "\n",
    "from scipy.integrate import trapz\n",
    "\n",
    "#print(R.shape)\n",
    "#print(X.shape)\n",
    "\n",
    "#print(trapz(np.ones(np.shape(x)),x))\n",
    "\n",
    "I = trapz(np.ones(np.shape(X)), X,axis=-1)\n",
    "\n",
    "print(X)\n",
    "print(I)\n",
    "print(I.shape)"
   ]
  },
  {
   "cell_type": "code",
   "execution_count": 32,
   "metadata": {},
   "outputs": [
    {
     "data": {
      "image/png": "[encoded data removed]",
      "text/plain": [
       "<Figure size 432x288 with 1 Axes>"
      ]
     },
     "metadata": {
      "needs_background": "light"
     },
     "output_type": "display_data"
    }
   ],
   "source": [
    "from scipy.integrate import cumtrapz,trapz\n",
    "Egrid = np.linspace(-10,10,100)\n",
    "\n",
    "fbar = np.exp(Egrid[None,:])\n",
    "\n",
    "solution   = np.copy(fbar[0,:])\n",
    "integrated = cumtrapz(fbar, Egrid,initial=0)[0,:]\n",
    "\n",
    "plt.plot(Egrid,solution)\n",
    "plt.plot(Egrid,integrated)\n",
    "plt.yscale('log')"
   ]
  },
  {
   "cell_type": "code",
   "execution_count": 42,
   "metadata": {},
   "outputs": [
    {
     "name": "stdout",
     "output_type": "stream",
     "text": [
      "[0 0 0 0 0 0 0 0 0 0]\n"
     ]
    },
    {
     "data": {
      "image/png": "[encoded data removed]",
      "text/plain": [
       "<Figure size 432x288 with 1 Axes>"
      ]
     },
     "metadata": {
      "needs_background": "light"
     },
     "output_type": "display_data"
    }
   ],
   "source": [
    "from scipy.integrate import cumtrapz,trapz\n",
    "Egrid   = np.arange(0,10)#np.linspace(-10,10,100)\n",
    "Egrid_p = np.arange(0,10)#np.linspace(10,10,100)\n",
    "\n",
    "Egrid_both = Egrid[:,None]*Egrid_p[None,:]\n",
    "print(Egrid_both[:,0])\n",
    "\n",
    "fbar = np.exp(Egrid_both)\n",
    "\n",
    "\n",
    "\n",
    "solution   = np.exp(Egrid)\n",
    "integrated = trapz(fbar, Egrid_both)\n",
    "\n",
    "#plt.plot(Egrid,solution)\n",
    "plt.plot(Egrid,integrated)\n",
    "plt.yscale('log')"
   ]
  },
  {
   "cell_type": "code",
   "execution_count": 64,
   "metadata": {},
   "outputs": [
    {
     "name": "stdout",
     "output_type": "stream",
     "text": [
      "[[[0]]\n",
      "\n",
      " [[1]]\n",
      "\n",
      " [[2]]\n",
      "\n",
      " [[3]]\n",
      "\n",
      " [[4]]\n",
      "\n",
      " [[5]]\n",
      "\n",
      " [[6]]\n",
      "\n",
      " [[7]]\n",
      "\n",
      " [[8]]\n",
      "\n",
      " [[9]]] [[[10]\n",
      "  [11]\n",
      "  [12]\n",
      "  [13]\n",
      "  [14]\n",
      "  [15]\n",
      "  [16]\n",
      "  [17]\n",
      "  [18]\n",
      "  [19]]] [[[20 21 22 23 24 25 26 27 28 29]]]\n",
      "[[[   0    0    0    0    0    0    0    0    0    0]\n",
      "  [   0    0    0    0    0    0    0    0    0    0]\n",
      "  [   0    0    0    0    0    0    0    0    0    0]\n",
      "  [   0    0    0    0    0    0    0    0    0    0]\n",
      "  [   0    0    0    0    0    0    0    0    0    0]\n",
      "  [   0    0    0    0    0    0    0    0    0    0]\n",
      "  [   0    0    0    0    0    0    0    0    0    0]\n",
      "  [   0    0    0    0    0    0    0    0    0    0]\n",
      "  [   0    0    0    0    0    0    0    0    0    0]\n",
      "  [   0    0    0    0    0    0    0    0    0    0]]\n",
      "\n",
      " [[ 200  210  220  230  240  250  260  270  280  290]\n",
      "  [ 220  231  242  253  264  275  286  297  308  319]\n",
      "  [ 240  252  264  276  288  300  312  324  336  348]\n",
      "  [ 260  273  286  299  312  325  338  351  364  377]\n",
      "  [ 280  294  308  322  336  350  364  378  392  406]\n",
      "  [ 300  315  330  345  360  375  390  405  420  435]\n",
      "  [ 320  336  352  368  384  400  416  432  448  464]\n",
      "  [ 340  357  374  391  408  425  442  459  476  493]\n",
      "  [ 360  378  396  414  432  450  468  486  504  522]\n",
      "  [ 380  399  418  437  456  475  494  513  532  551]]\n",
      "\n",
      " [[ 400  420  440  460  480  500  520  540  560  580]\n",
      "  [ 440  462  484  506  528  550  572  594  616  638]\n",
      "  [ 480  504  528  552  576  600  624  648  672  696]\n",
      "  [ 520  546  572  598  624  650  676  702  728  754]\n",
      "  [ 560  588  616  644  672  700  728  756  784  812]\n",
      "  [ 600  630  660  690  720  750  780  810  840  870]\n",
      "  [ 640  672  704  736  768  800  832  864  896  928]\n",
      "  [ 680  714  748  782  816  850  884  918  952  986]\n",
      "  [ 720  756  792  828  864  900  936  972 1008 1044]\n",
      "  [ 760  798  836  874  912  950  988 1026 1064 1102]]\n",
      "\n",
      " [[ 600  630  660  690  720  750  780  810  840  870]\n",
      "  [ 660  693  726  759  792  825  858  891  924  957]\n",
      "  [ 720  756  792  828  864  900  936  972 1008 1044]\n",
      "  [ 780  819  858  897  936  975 1014 1053 1092 1131]\n",
      "  [ 840  882  924  966 1008 1050 1092 1134 1176 1218]\n",
      "  [ 900  945  990 1035 1080 1125 1170 1215 1260 1305]\n",
      "  [ 960 1008 1056 1104 1152 1200 1248 1296 1344 1392]\n",
      "  [1020 1071 1122 1173 1224 1275 1326 1377 1428 1479]\n",
      "  [1080 1134 1188 1242 1296 1350 1404 1458 1512 1566]\n",
      "  [1140 1197 1254 1311 1368 1425 1482 1539 1596 1653]]\n",
      "\n",
      " [[ 800  840  880  920  960 1000 1040 1080 1120 1160]\n",
      "  [ 880  924  968 1012 1056 1100 1144 1188 1232 1276]\n",
      "  [ 960 1008 1056 1104 1152 1200 1248 1296 1344 1392]\n",
      "  [1040 1092 1144 1196 1248 1300 1352 1404 1456 1508]\n",
      "  [1120 1176 1232 1288 1344 1400 1456 1512 1568 1624]\n",
      "  [1200 1260 1320 1380 1440 1500 1560 1620 1680 1740]\n",
      "  [1280 1344 1408 1472 1536 1600 1664 1728 1792 1856]\n",
      "  [1360 1428 1496 1564 1632 1700 1768 1836 1904 1972]\n",
      "  [1440 1512 1584 1656 1728 1800 1872 1944 2016 2088]\n",
      "  [1520 1596 1672 1748 1824 1900 1976 2052 2128 2204]]\n",
      "\n",
      " [[1000 1050 1100 1150 1200 1250 1300 1350 1400 1450]\n",
      "  [1100 1155 1210 1265 1320 1375 1430 1485 1540 1595]\n",
      "  [1200 1260 1320 1380 1440 1500 1560 1620 1680 1740]\n",
      "  [1300 1365 1430 1495 1560 1625 1690 1755 1820 1885]\n",
      "  [1400 1470 1540 1610 1680 1750 1820 1890 1960 2030]\n",
      "  [1500 1575 1650 1725 1800 1875 1950 2025 2100 2175]\n",
      "  [1600 1680 1760 1840 1920 2000 2080 2160 2240 2320]\n",
      "  [1700 1785 1870 1955 2040 2125 2210 2295 2380 2465]\n",
      "  [1800 1890 1980 2070 2160 2250 2340 2430 2520 2610]\n",
      "  [1900 1995 2090 2185 2280 2375 2470 2565 2660 2755]]\n",
      "\n",
      " [[1200 1260 1320 1380 1440 1500 1560 1620 1680 1740]\n",
      "  [1320 1386 1452 1518 1584 1650 1716 1782 1848 1914]\n",
      "  [1440 1512 1584 1656 1728 1800 1872 1944 2016 2088]\n",
      "  [1560 1638 1716 1794 1872 1950 2028 2106 2184 2262]\n",
      "  [1680 1764 1848 1932 2016 2100 2184 2268 2352 2436]\n",
      "  [1800 1890 1980 2070 2160 2250 2340 2430 2520 2610]\n",
      "  [1920 2016 2112 2208 2304 2400 2496 2592 2688 2784]\n",
      "  [2040 2142 2244 2346 2448 2550 2652 2754 2856 2958]\n",
      "  [2160 2268 2376 2484 2592 2700 2808 2916 3024 3132]\n",
      "  [2280 2394 2508 2622 2736 2850 2964 3078 3192 3306]]\n",
      "\n",
      " [[1400 1470 1540 1610 1680 1750 1820 1890 1960 2030]\n",
      "  [1540 1617 1694 1771 1848 1925 2002 2079 2156 2233]\n",
      "  [1680 1764 1848 1932 2016 2100 2184 2268 2352 2436]\n",
      "  [1820 1911 2002 2093 2184 2275 2366 2457 2548 2639]\n",
      "  [1960 2058 2156 2254 2352 2450 2548 2646 2744 2842]\n",
      "  [2100 2205 2310 2415 2520 2625 2730 2835 2940 3045]\n",
      "  [2240 2352 2464 2576 2688 2800 2912 3024 3136 3248]\n",
      "  [2380 2499 2618 2737 2856 2975 3094 3213 3332 3451]\n",
      "  [2520 2646 2772 2898 3024 3150 3276 3402 3528 3654]\n",
      "  [2660 2793 2926 3059 3192 3325 3458 3591 3724 3857]]\n",
      "\n",
      " [[1600 1680 1760 1840 1920 2000 2080 2160 2240 2320]\n",
      "  [1760 1848 1936 2024 2112 2200 2288 2376 2464 2552]\n",
      "  [1920 2016 2112 2208 2304 2400 2496 2592 2688 2784]\n",
      "  [2080 2184 2288 2392 2496 2600 2704 2808 2912 3016]\n",
      "  [2240 2352 2464 2576 2688 2800 2912 3024 3136 3248]\n",
      "  [2400 2520 2640 2760 2880 3000 3120 3240 3360 3480]\n",
      "  [2560 2688 2816 2944 3072 3200 3328 3456 3584 3712]\n",
      "  [2720 2856 2992 3128 3264 3400 3536 3672 3808 3944]\n",
      "  [2880 3024 3168 3312 3456 3600 3744 3888 4032 4176]\n",
      "  [3040 3192 3344 3496 3648 3800 3952 4104 4256 4408]]\n",
      "\n",
      " [[1800 1890 1980 2070 2160 2250 2340 2430 2520 2610]\n",
      "  [1980 2079 2178 2277 2376 2475 2574 2673 2772 2871]\n",
      "  [2160 2268 2376 2484 2592 2700 2808 2916 3024 3132]\n",
      "  [2340 2457 2574 2691 2808 2925 3042 3159 3276 3393]\n",
      "  [2520 2646 2772 2898 3024 3150 3276 3402 3528 3654]\n",
      "  [2700 2835 2970 3105 3240 3375 3510 3645 3780 3915]\n",
      "  [2880 3024 3168 3312 3456 3600 3744 3888 4032 4176]\n",
      "  [3060 3213 3366 3519 3672 3825 3978 4131 4284 4437]\n",
      "  [3240 3402 3564 3726 3888 4050 4212 4374 4536 4698]\n",
      "  [3420 3591 3762 3933 4104 4275 4446 4617 4788 4959]]]\n"
     ]
    }
   ],
   "source": [
    "x = np.arange(0,10)[:,None,None]\n",
    "y = np.arange(10,20)[None,:,None]\n",
    "z = np.arange(20,30)[None,None,:]\n",
    "print(x,y,z)\n",
    "print(x*y*z)"
   ]
  },
  {
   "cell_type": "markdown",
   "metadata": {},
   "source": [
    "### $\\bar{f}(E,r) = \\frac{1}{2R_{\\rm max}^{1/2}}\\int_0^{R_{\\rm max}} \\frac{dR}{(R_{\\rm max} - R)^{1/2}}f(E,R)$\n"
   ]
  },
  {
   "cell_type": "markdown",
   "metadata": {},
   "source": [
    "### $\\int_0^{R_{\\rm max}(r)} e^{E}e^{R} dR$\n",
    "### $ e^{E} (e^{R_{\\rm max}(r)} - 1) $"
   ]
  },
  {
   "cell_type": "code",
   "execution_count": 164,
   "metadata": {},
   "outputs": [
    {
     "name": "stdout",
     "output_type": "stream",
     "text": [
      "Rmax shape =  (1, 100, 1)\n",
      "R shape =  (100,)\n",
      "ind Rmax shape =  (1, 1000, 1)\n",
      "[[[1 0 0 ... 0 0 0]\n",
      "  [1 0 0 ... 0 0 0]\n",
      "  [1 0 0 ... 0 0 0]\n",
      "  ...\n",
      "  [1 1 1 ... 0 0 0]\n",
      "  [1 1 1 ... 0 0 0]\n",
      "  [1 1 1 ... 0 0 0]]]\n",
      "(100, 100, 100)\n",
      "(100, 100)\n",
      "(100, 100, 1)\n"
     ]
    },
    {
     "data": {
      "text/plain": [
       "<matplotlib.legend.Legend at 0x7f33e93869d0>"
      ]
     },
     "execution_count": 164,
     "metadata": {},
     "output_type": "execute_result"
    },
    {
     "data": {
      "image/png": "[encoded data removed]",
      "text/plain": [
       "<Figure size 432x288 with 1 Axes>"
      ]
     },
     "metadata": {
      "needs_background": "light"
     },
     "output_type": "display_data"
    }
   ],
   "source": [
    "N = 100\n",
    "E_data = np.linspace(0,10,N)\n",
    "R_data = np.linspace(0,1,N)\n",
    "r_data = np.linspace(10,100,N)##np.logspace(-2,2,N)\n",
    "\n",
    "fbar   = np.exp(E_data[:,None,None])*np.exp(R_data[None,None,:])\n",
    "\n",
    "# Construct an integrand that is a 3D grid in (E, r, R) space; trapz() will integrate out the R dimension. \n",
    "integrand_r = r_data[None,:,None]\n",
    "\n",
    "Rmax = (0.5*integrand_r/np.max(integrand_r))**2.\n",
    "\n",
    "print(\"Rmax shape = \", Rmax.shape)\n",
    "print(\"R shape = \", R_data.shape)\n",
    "print(\"ind Rmax shape = \", ind_Rmax.shape)\n",
    "integrand_R = R_data[None,None,:]\n",
    "\n",
    "#print(integrand_R.shape)\n",
    "print(np.array(integrand_R<Rmax,dtype=int))\n",
    "integrand = fbar*(integrand_R<Rmax)\n",
    "print(integrand.shape)\n",
    "\n",
    "#print(integrand.shape)\n",
    "solution = trapz(integrand, integrand_R, axis=-1)\n",
    "analytic = np.exp(E_data[:,None,None])*(np.exp(Rmax) - 1)\n",
    "print(solution.shape)\n",
    "print(analytic.shape)\n",
    "#print(solution)\n",
    "\n",
    "r_ind = N//2\n",
    "\n",
    "plt.plot(E_data, solution[:,r_ind],label='sol')\n",
    "plt.plot(E_data, analytic[:,r_ind],label='analytic')\n",
    "plt.legend(loc='upper left', frameon=False)"
   ]
  },
  {
   "cell_type": "markdown",
   "metadata": {},
   "source": [
    "### $F_0(E,r) = 4\\pi\\Gamma \\int_{-\\infty}^E dE' \\bar{f}(E',r)$\n"
   ]
  },
  {
   "cell_type": "markdown",
   "metadata": {},
   "source": [
    "### $\\int_{0}^E dE' e^{2E'}r$\n",
    "### $=0.5(e^{2E}-1)r$"
   ]
  },
  {
   "cell_type": "code",
   "execution_count": 202,
   "metadata": {},
   "outputs": [
    {
     "data": {
      "text/plain": [
       "<matplotlib.legend.Legend at 0x7f33e81f14c0>"
      ]
     },
     "execution_count": 202,
     "metadata": {},
     "output_type": "execute_result"
    },
    {
     "data": {
      "image/png": "[encoded data removed]",
      "text/plain": [
       "<Figure size 432x288 with 1 Axes>"
      ]
     },
     "metadata": {
      "needs_background": "light"
     },
     "output_type": "display_data"
    }
   ],
   "source": [
    "from scipy.integrate import trapz\n",
    "N = 100\n",
    "E_data = np.linspace(0,10,N)\n",
    "Eprime_data = np.copy(E_data)\n",
    "r_data = np.linspace(10,100,N)\n",
    "\n",
    "fbar   = np.exp(2*Eprime_data[None,None,:])*r_data[None,:,None]*(Eprime_data[None,None,:]<E_data[:,None,None])\n",
    "\n",
    "solution = trapz(fbar, Eprime_data[None,None,:],axis=-1)\n",
    "\n",
    "analytic = 0.5*(np.exp(2*E_data[:,None]) - 1)*r_data[None,:]\n",
    "\n",
    "r_ind = N//2\n",
    "\n",
    "plt.plot(E_data, solution[:,r_ind],label='sol')\n",
    "plt.plot(E_data, analytic[:,r_ind],label='analytic',ls='--')\n",
    "plt.legend(loc='upper left', frameon=False)"
   ]
  },
  {
   "cell_type": "code",
   "execution_count": 197,
   "metadata": {},
   "outputs": [
    {
     "name": "stdout",
     "output_type": "stream",
     "text": [
      "(100, 100)\n"
     ]
    },
    {
     "data": {
      "text/plain": [
       "<matplotlib.legend.Legend at 0x7f33e8359940>"
      ]
     },
     "execution_count": 197,
     "metadata": {},
     "output_type": "execute_result"
    },
    {
     "data": {
      "image/png": "[encoded data removed]",
      "text/plain": [
       "<Figure size 432x288 with 1 Axes>"
      ]
     },
     "metadata": {
      "needs_background": "light"
     },
     "output_type": "display_data"
    }
   ],
   "source": [
    "from scipy.integrate import cumtrapz\n",
    "N = 100\n",
    "E_data = np.linspace(0,10,N)\n",
    "r_data = np.linspace(10,100,N)##np.logspace(-2,2,N)\n",
    "\n",
    "fbar   = np.exp(2*E_data[:,None])*r_data[None,:]\n",
    "\n",
    "solution = cumtrapz(fbar, E_data,axis=0,initial=0)\n",
    "print(solution.shape)\n",
    "analytic = 0.5*(np.exp(2*E_data[:,None]) - 1)*r_data[None,:]\n",
    "\n",
    "r_ind = N//2\n",
    "\n",
    "plt.plot(E_data, solution[:,r_ind],label='sol')\n",
    "plt.plot(E_data, analytic[:,r_ind],label='analytic',ls='--')\n",
    "plt.legend(loc='upper left', frameon=False)"
   ]
  },
  {
   "cell_type": "markdown",
   "metadata": {},
   "source": [
    "### $\\int_{0}^E dE' e^{2E'}$\n",
    "### $=0.5(e^{2E}-1)$"
   ]
  },
  {
   "cell_type": "code",
   "execution_count": 183,
   "metadata": {},
   "outputs": [
    {
     "data": {
      "text/plain": [
       "<matplotlib.legend.Legend at 0x7f33e93502e0>"
      ]
     },
     "execution_count": 183,
     "metadata": {},
     "output_type": "execute_result"
    },
    {
     "data": {
      "image/png": "[encoded data removed]",
      "text/plain": [
       "<Figure size 432x288 with 1 Axes>"
      ]
     },
     "metadata": {
      "needs_background": "light"
     },
     "output_type": "display_data"
    }
   ],
   "source": [
    "from scipy.integrate import cumtrapz\n",
    "N = 100\n",
    "E_data = np.linspace(0,10,N)\n",
    "\n",
    "fbar   = np.exp(2*E_data)\n",
    "\n",
    "solution = cumtrapz(fbar, E_data,initial=0)\n",
    "analytic = 0.5*(np.exp(2*E_data) - 1)\n",
    "\n",
    "\n",
    "plt.plot(E_data, solution,label='sol')\n",
    "plt.plot(E_data, analytic,label='analytic')\n",
    "plt.legend(loc='upper left', frameon=False)"
   ]
  },
  {
   "cell_type": "markdown",
   "metadata": {},
   "source": [
    "### $F_1(E,r) = 4\\pi\\Gamma \\int_E^\\phi dE'\\bar{f}(E',r)\\left(\\frac{\\phi - E'}{\\phi - E}\\right)^{1/2}$"
   ]
  },
  {
   "cell_type": "markdown",
   "metadata": {},
   "source": [
    "### $\\int_E^{E_{\\rm max}(r)} dE' e^{2E'}r(\\frac{E_{\\rm max}(r)-E'}{E_{\\rm max}(r)-E})^{1/2}$"
   ]
  },
  {
   "cell_type": "markdown",
   "metadata": {},
   "source": [
    "### $-\\int^E_{\\phi(r)} e^{-2E'}dE' = 0.5(e^{-2(E)} - e^{-2\\phi(r)})$\n",
    "### $\\phi(r) > E$ at a given radius\n",
    "### $\\phi(r) \\equiv E + (r/r_{\\rm max})$"
   ]
  },
  {
   "cell_type": "code",
   "execution_count": 196,
   "metadata": {},
   "outputs": [
    {
     "name": "stdout",
     "output_type": "stream",
     "text": [
      "[[1.00000000e+00 1.00000000e+00 1.00000000e+00 ... 1.00000000e+00\n",
      "  1.00000000e+00 1.00000000e+00]\n",
      " [8.17078421e-01 8.17078421e-01 8.17078421e-01 ... 8.17078421e-01\n",
      "  8.17078421e-01 8.17078421e-01]\n",
      " [6.67617146e-01 6.67617146e-01 6.67617146e-01 ... 6.67617146e-01\n",
      "  6.67617146e-01 6.67617146e-01]\n",
      " ...\n",
      " [3.08732877e-09 3.08732877e-09 3.08732877e-09 ... 3.08732877e-09\n",
      "  3.08732877e-09 3.08732877e-09]\n",
      " [2.52258972e-09 2.52258972e-09 2.52258972e-09 ... 2.52258972e-09\n",
      "  2.52258972e-09 2.52258972e-09]\n",
      " [2.06115362e-09 2.06115362e-09 2.06115362e-09 ... 2.06115362e-09\n",
      "  2.06115362e-09 2.06115362e-09]]\n"
     ]
    },
    {
     "data": {
      "text/plain": [
       "<matplotlib.legend.Legend at 0x7f33e83f1f40>"
      ]
     },
     "execution_count": 196,
     "metadata": {},
     "output_type": "execute_result"
    },
    {
     "data": {
      "image/png": "[encoded data removed]",
      "text/plain": [
       "<Figure size 432x288 with 1 Axes>"
      ]
     },
     "metadata": {
      "needs_background": "light"
     },
     "output_type": "display_data"
    }
   ],
   "source": [
    "from scipy.integrate import cumtrapz\n",
    "N = 100\n",
    "E_data = np.linspace(0,10,N)\n",
    "r_data = np.linspace(10,100,N)##np.logspace(-2,2,N)\n",
    "\n",
    "fbar   = np.exp(-2*E_data[:,None])\n",
    "phi    = E_data[:,None] + r_data[None,:]/np.max(r_data)\n",
    "\n",
    "\n",
    "integrand = fbar*(E_data[:,None]<phi)\n",
    "print(integrand)\n",
    "\n",
    "solution = -1*cumtrapz(integrand, E_data, initial=0)\n",
    "analytic = 0.5*(np.exp(-2*E_data[:,None]) - np.exp(-2*phi))\n",
    "\n",
    "r_ind = N//2\n",
    "\n",
    "plt.plot(E_data, solution[:,r_ind],label='sol')\n",
    "plt.plot(E_data, analytic[:,r_ind],label='analytic')\n",
    "plt.legend(loc='lower right', frameon=False)"
   ]
  },
  {
   "cell_type": "markdown",
   "metadata": {},
   "source": [
    "### $P(E,R) = 2\\int_{r_-}^{r_+} \\frac{dr}{v_r}$"
   ]
  },
  {
   "cell_type": "markdown",
   "metadata": {},
   "source": [
    "### $r_{\\pm} = \\frac{GM}{E}\\left(1\\mp\\sqrt{1-\\frac{EJ^2}{G^2M^2}}\\right)$\n",
    "### $v_r     = \\sqrt{\\frac{2GM}{r} - 2E - \\frac{J^2}{r^2}}$"
   ]
  },
  {
   "cell_type": "code",
   "execution_count": 24,
   "metadata": {},
   "outputs": [
    {
     "name": "stdout",
     "output_type": "stream",
     "text": [
      "[[[19998.          9998.          6664.66666667 ...   202.08163265\n",
      "     200.02020202   198.        ]\n",
      "  [19996.97969595  9997.48984797  6664.32656532 ...   202.07122139\n",
      "     200.00989592   197.98979696]\n",
      "  [19993.9187838   9995.9593919   6663.30626127 ...   202.03998759\n",
      "     199.97897761   197.95918784]\n",
      "  ...\n",
      "  [10397.95918784  5197.97959392  3464.65306261 ...   104.12203253\n",
      "     103.05009281   101.99959188]\n",
      "  [10198.99989797  5098.49994898  3398.33329932 ...   102.09183569\n",
      "     101.04040301   100.00999898]\n",
      "  [ 9998.          4998.          3331.33333333 ...   100.04081633\n",
      "      99.01010101    98.        ]]\n",
      "\n",
      " [[19997.81818182  9997.81818182  6664.48484848 ...   201.89981447\n",
      "     199.83838384   197.81818182]\n",
      "  [19996.79787777  9997.30802979  6664.14474713 ...   201.88940321\n",
      "     199.82807774   197.80797878]\n",
      "  [19993.73696562  9995.77757372  6663.12444308 ...   201.85816941\n",
      "     199.79715943   197.77736966]\n",
      "  ...\n",
      "  [10397.77736966  5197.79777574  3464.47124443 ...   103.94021435\n",
      "     102.86827462   101.8177737 ]\n",
      "  [10198.81807979  5098.3181308   3398.15148114 ...   101.91001751\n",
      "     100.85858483    99.8281808 ]\n",
      "  [ 9997.81818182  4997.81818182  3331.15151515 ...    99.85899814\n",
      "      98.82828283    97.81818182]]\n",
      "\n",
      " [[19997.63636364  9997.63636364  6664.3030303  ...   201.71799629\n",
      "     199.65656566   197.63636364]\n",
      "  [19996.61605959  9997.12621161  6663.96292895 ...   201.70758502\n",
      "     199.64625956   197.6261606 ]\n",
      "  [19993.55514743  9995.59575554  6662.9426249  ...   201.67635123\n",
      "     199.61534125   197.59555147]\n",
      "  ...\n",
      "  [10397.59555147  5197.61595756  3464.28942625 ...   103.75839617\n",
      "     102.68645644   101.63595551]\n",
      "  [10198.63626161  5098.13631262  3397.96966296 ...   101.72819933\n",
      "     100.67676665    99.64636262]\n",
      "  [ 9997.63636364  4997.63636364  3330.96969697 ...    99.67717996\n",
      "      98.64646465    97.63636364]]\n",
      "\n",
      " ...\n",
      "\n",
      " [[19980.36363636  9980.36363636  6647.03030303 ...   184.44526902\n",
      "     182.38383838   180.36363636]\n",
      "  [19979.34333231  9979.85348434  6646.69020168 ...   184.43485775\n",
      "     182.37353228   180.35343332]\n",
      "  [19976.28242016  9978.32302826  6645.66989763 ...   184.40362395\n",
      "     182.34261398   180.3228242 ]\n",
      "  ...\n",
      "  [10380.3228242   5180.34323028  3447.01669898 ...    86.48566889\n",
      "      85.41372917    84.36322824]\n",
      "  [10181.36353433  5080.86358535  3380.69693569 ...    84.45547206\n",
      "      83.40403937    82.37363534]\n",
      "  [ 9980.36363636  4980.36363636  3313.6969697  ...    82.40445269\n",
      "      81.37373737    80.36363636]]\n",
      "\n",
      " [[19980.18181818  9980.18181818  6646.84848485 ...   184.26345083\n",
      "     182.2020202    180.18181818]\n",
      "  [19979.16151413  9979.67166616  6646.5083835  ...   184.25303957\n",
      "     182.1917141    180.17161514]\n",
      "  [19976.10060198  9978.14121008  6645.48807945 ...   184.22180577\n",
      "     182.1607958    180.14100602]\n",
      "  ...\n",
      "  [10380.14100602  5180.1614121   3446.83488079 ...    86.30385071\n",
      "      85.23191099    84.18141006]\n",
      "  [10181.18171615  5080.68176717  3380.51511751 ...    84.27365388\n",
      "      83.22222119    82.19181716]\n",
      "  [ 9980.18181818  4980.18181818  3313.51515152 ...    82.22263451\n",
      "      81.19191919    80.18181818]]\n",
      "\n",
      " [[19980.          9980.          6646.66666667 ...   184.08163265\n",
      "     182.02020202   180.        ]\n",
      "  [19978.97969595  9979.48984797  6646.32656532 ...   184.07122139\n",
      "     182.00989592   179.98979696]\n",
      "  [19975.9187838   9977.9593919   6645.30626127 ...   184.03998759\n",
      "     181.97897761   179.95918784]\n",
      "  ...\n",
      "  [10379.95918784  5179.97959392  3446.65306261 ...    86.12203253\n",
      "      85.05009281    83.99959188]\n",
      "  [10180.99989797  5080.49994898  3380.33329932 ...    84.09183569\n",
      "      83.04040301    82.00999898]\n",
      "  [ 9980.          4980.          3313.33333333 ...    82.04081633\n",
      "      81.01010101    80.        ]]]\n",
      "(100, 100)\n",
      "[[4.72328781 4.72340903 4.72377272 ... 6.56842581 6.63292995 6.70006444]\n",
      " [4.72458803 4.72470935 4.72507335 ... 6.57192983 6.63653852 6.70378403]\n",
      " [4.72588954 4.72601095 4.72637525 ... 6.57544055 6.64015413 6.70751101]\n",
      " ...\n",
      " [4.85572555 4.85585732 4.85625269 ... 6.94338118 7.01988532 7.09980888]\n",
      " [4.85716148 4.85729337 4.8576891  ... 6.94766366 7.02431478 7.10439558]\n",
      " [4.85859895 4.85873096 4.85912705 ... 6.95195579 7.02875446 7.10899312]]\n"
     ]
    },
    {
     "data": {
      "text/plain": [
       "[<matplotlib.lines.Line2D at 0x7f74bdc3aa00>,\n",
       " <matplotlib.lines.Line2D at 0x7f74bdc3aaf0>,\n",
       " <matplotlib.lines.Line2D at 0x7f74bdc3abb0>,\n",
       " <matplotlib.lines.Line2D at 0x7f74bdc3ac70>,\n",
       " <matplotlib.lines.Line2D at 0x7f74bdc3ad30>,\n",
       " <matplotlib.lines.Line2D at 0x7f74bdc3adf0>,\n",
       " <matplotlib.lines.Line2D at 0x7f74bdc3aeb0>,\n",
       " <matplotlib.lines.Line2D at 0x7f74bdc3af70>,\n",
       " <matplotlib.lines.Line2D at 0x7f74bdc41070>,\n",
       " <matplotlib.lines.Line2D at 0x7f74bdc41130>,\n",
       " <matplotlib.lines.Line2D at 0x7f74bdc26c40>,\n",
       " <matplotlib.lines.Line2D at 0x7f74bdc41280>,\n",
       " <matplotlib.lines.Line2D at 0x7f74bdc41340>,\n",
       " <matplotlib.lines.Line2D at 0x7f74bdc41400>,\n",
       " <matplotlib.lines.Line2D at 0x7f74bdc414c0>,\n",
       " <matplotlib.lines.Line2D at 0x7f74bdc41580>,\n",
       " <matplotlib.lines.Line2D at 0x7f74bdc41640>,\n",
       " <matplotlib.lines.Line2D at 0x7f74bdc41700>,\n",
       " <matplotlib.lines.Line2D at 0x7f74bdc417c0>,\n",
       " <matplotlib.lines.Line2D at 0x7f74bdc41880>,\n",
       " <matplotlib.lines.Line2D at 0x7f74bdc41940>,\n",
       " <matplotlib.lines.Line2D at 0x7f74bdc41a00>,\n",
       " <matplotlib.lines.Line2D at 0x7f74bdc41ac0>,\n",
       " <matplotlib.lines.Line2D at 0x7f74bdc41b80>,\n",
       " <matplotlib.lines.Line2D at 0x7f74bdc41c40>,\n",
       " <matplotlib.lines.Line2D at 0x7f74bdc41d00>,\n",
       " <matplotlib.lines.Line2D at 0x7f74bdc41dc0>,\n",
       " <matplotlib.lines.Line2D at 0x7f74bdc41e80>,\n",
       " <matplotlib.lines.Line2D at 0x7f74bdc41f40>,\n",
       " <matplotlib.lines.Line2D at 0x7f74bdc46040>,\n",
       " <matplotlib.lines.Line2D at 0x7f74bdc46100>,\n",
       " <matplotlib.lines.Line2D at 0x7f74bdc461c0>,\n",
       " <matplotlib.lines.Line2D at 0x7f74bdc46280>,\n",
       " <matplotlib.lines.Line2D at 0x7f74bdc46340>,\n",
       " <matplotlib.lines.Line2D at 0x7f74bdc46400>,\n",
       " <matplotlib.lines.Line2D at 0x7f74bdc464c0>,\n",
       " <matplotlib.lines.Line2D at 0x7f74bdc46580>,\n",
       " <matplotlib.lines.Line2D at 0x7f74bdc46640>,\n",
       " <matplotlib.lines.Line2D at 0x7f74bdc46700>,\n",
       " <matplotlib.lines.Line2D at 0x7f74bdc467c0>,\n",
       " <matplotlib.lines.Line2D at 0x7f74bdc46880>,\n",
       " <matplotlib.lines.Line2D at 0x7f74bdc46940>,\n",
       " <matplotlib.lines.Line2D at 0x7f74bdc46a00>,\n",
       " <matplotlib.lines.Line2D at 0x7f74bdc46ac0>,\n",
       " <matplotlib.lines.Line2D at 0x7f74bdc46b80>,\n",
       " <matplotlib.lines.Line2D at 0x7f74bdc46c40>,\n",
       " <matplotlib.lines.Line2D at 0x7f74bdc46d00>,\n",
       " <matplotlib.lines.Line2D at 0x7f74bdc46dc0>,\n",
       " <matplotlib.lines.Line2D at 0x7f74bdc46e80>,\n",
       " <matplotlib.lines.Line2D at 0x7f74bdc46f40>,\n",
       " <matplotlib.lines.Line2D at 0x7f74bdc4b040>,\n",
       " <matplotlib.lines.Line2D at 0x7f74bdc4b100>,\n",
       " <matplotlib.lines.Line2D at 0x7f74bdc4b1c0>,\n",
       " <matplotlib.lines.Line2D at 0x7f74bdc4b280>,\n",
       " <matplotlib.lines.Line2D at 0x7f74bdc4b340>,\n",
       " <matplotlib.lines.Line2D at 0x7f74bdc4b400>,\n",
       " <matplotlib.lines.Line2D at 0x7f74bdc4b4c0>,\n",
       " <matplotlib.lines.Line2D at 0x7f74bdc4b580>,\n",
       " <matplotlib.lines.Line2D at 0x7f74bdc4b640>,\n",
       " <matplotlib.lines.Line2D at 0x7f74bdc4b700>,\n",
       " <matplotlib.lines.Line2D at 0x7f74bdc4b7c0>,\n",
       " <matplotlib.lines.Line2D at 0x7f74bdc4b880>,\n",
       " <matplotlib.lines.Line2D at 0x7f74bdc4b940>,\n",
       " <matplotlib.lines.Line2D at 0x7f74bdc4ba00>,\n",
       " <matplotlib.lines.Line2D at 0x7f74bdc4bac0>,\n",
       " <matplotlib.lines.Line2D at 0x7f74bdc4bb80>,\n",
       " <matplotlib.lines.Line2D at 0x7f74bdc4bc40>,\n",
       " <matplotlib.lines.Line2D at 0x7f74bdc4bd00>,\n",
       " <matplotlib.lines.Line2D at 0x7f74bdc4bdc0>,\n",
       " <matplotlib.lines.Line2D at 0x7f74bdc4be80>,\n",
       " <matplotlib.lines.Line2D at 0x7f74bdc4bf40>,\n",
       " <matplotlib.lines.Line2D at 0x7f74bdc4f040>,\n",
       " <matplotlib.lines.Line2D at 0x7f74bdc4f100>,\n",
       " <matplotlib.lines.Line2D at 0x7f74bdc4f1c0>,\n",
       " <matplotlib.lines.Line2D at 0x7f74bdc4f280>,\n",
       " <matplotlib.lines.Line2D at 0x7f74bdc4f340>,\n",
       " <matplotlib.lines.Line2D at 0x7f74bdc4f400>,\n",
       " <matplotlib.lines.Line2D at 0x7f74bdc4f4c0>,\n",
       " <matplotlib.lines.Line2D at 0x7f74bdc4f580>,\n",
       " <matplotlib.lines.Line2D at 0x7f74bdc4f640>,\n",
       " <matplotlib.lines.Line2D at 0x7f74bdc4f700>,\n",
       " <matplotlib.lines.Line2D at 0x7f74bdc4f7c0>,\n",
       " <matplotlib.lines.Line2D at 0x7f74bdc4f880>,\n",
       " <matplotlib.lines.Line2D at 0x7f74bdc4f940>,\n",
       " <matplotlib.lines.Line2D at 0x7f74bdc4fa00>,\n",
       " <matplotlib.lines.Line2D at 0x7f74bdc4fac0>,\n",
       " <matplotlib.lines.Line2D at 0x7f74bdc4fb80>,\n",
       " <matplotlib.lines.Line2D at 0x7f74bdc4fc40>,\n",
       " <matplotlib.lines.Line2D at 0x7f74bdc4fd00>,\n",
       " <matplotlib.lines.Line2D at 0x7f74bdc4fdc0>,\n",
       " <matplotlib.lines.Line2D at 0x7f74bdc4fe80>,\n",
       " <matplotlib.lines.Line2D at 0x7f74bdc4ff40>,\n",
       " <matplotlib.lines.Line2D at 0x7f74bdc53040>,\n",
       " <matplotlib.lines.Line2D at 0x7f74bdc53100>,\n",
       " <matplotlib.lines.Line2D at 0x7f74bdc531c0>,\n",
       " <matplotlib.lines.Line2D at 0x7f74bdc53280>,\n",
       " <matplotlib.lines.Line2D at 0x7f74bdc53340>,\n",
       " <matplotlib.lines.Line2D at 0x7f74bdc53400>,\n",
       " <matplotlib.lines.Line2D at 0x7f74bdc534c0>,\n",
       " <matplotlib.lines.Line2D at 0x7f74bdc53580>]"
      ]
     },
     "execution_count": 24,
     "metadata": {},
     "output_type": "execute_result"
    },
    {
     "data": {
      "image/png": "[encoded data removed]",
      "text/plain": [
       "<Figure size 432x288 with 1 Axes>"
      ]
     },
     "metadata": {
      "needs_background": "light"
     },
     "output_type": "display_data"
    }
   ],
   "source": [
    "from scipy.integrate import trapz\n",
    "\n",
    "N = 100\n",
    "r_grid = np.linspace(1,100,N)\n",
    "E_grid = np.linspace(1,10,N)\n",
    "R_grid = np.linspace(0,1,N)\n",
    "\n",
    "E = E_grid[:,None,None]\n",
    "R = R_grid[None,:,None]\n",
    "r = r_grid[None,None,:]\n",
    "\n",
    "GM = 1e4\n",
    "\n",
    "Jc   = np.sqrt(GM*r) # angular momentum of circular orbit at given radius\n",
    "rc   = E/(2*GM)                       # circular radius associated with E (E is the negative specific energy, i.e. is positive for all bound orbits)\n",
    "# R = J/Jc\n",
    "J    = R*Jc                  # angular momentum\n",
    "\n",
    "r_minus = (GM/E)*(1 - np.sqrt(1. - E*J*J/GM/GM))\n",
    "r_plus  = (GM/E)*(1 + np.sqrt(1. - E*J*J/GM/GM))\n",
    "\n",
    "bool1 = (r>r_minus)\n",
    "bool2 = (r<r_plus)\n",
    "vr    = np.sqrt(2*GM/r - 2*E - J*J/r/r)\n",
    "\n",
    "print(2*GM/r - 2*E - J*J/r/r)\n",
    "\n",
    "integrand = 1/vr * bool1 * bool2\n",
    "\n",
    "P = trapz(integrand,r,axis=-1)\n",
    "print(np.shape(P))\n",
    "print(P)\n",
    "\n",
    "plt.plot(E_grid, P[:,:])"
   ]
  }
 ],
 "metadata": {
  "kernelspec": {
   "display_name": "Python 3",
   "language": "python",
   "name": "python3"
  },
  "language_info": {
   "codemirror_mode": {
    "name": "ipython",
    "version": 3
   },
   "file_extension": ".py",
   "mimetype": "text/x-python",
   "name": "python",
   "nbconvert_exporter": "python",
   "pygments_lexer": "ipython3",
   "version": "3.8.5"
  }
 },
 "nbformat": 4,
 "nbformat_minor": 4
}
