{
 "cells": [
  {
   "cell_type": "code",
   "execution_count": 4,
   "metadata": {},
   "outputs": [],
   "source": [
    "import numpy as np\n",
    "import matplotlib.pyplot as plt\n",
    "%matplotlib inline"
   ]
  },
  {
   "cell_type": "markdown",
   "metadata": {},
   "source": [
    "### Initial condition is some distribution $f_0(r, \\vec{v}) = f(r, \\vec{v}, 0)$ (which can equivalently be expressed in terms of energy and angular momentum)"
   ]
  },
  {
   "cell_type": "markdown",
   "metadata": {},
   "source": [
    "### Plummer model\n",
    "### $\\rho_P(r) = \\frac{3M_0}{4\\pi r_0^3}\\left(1 + \\frac{r^2}{r_0^2}\\right)^{-5/2}$\n",
    "### $\\Phi_P(r) = \\frac{GM_0}{\\sqrt{r^2 + r_0^2}}$\n",
    "### Black hole nuclear cluster\n",
    "### $\\Phi_{NC}(r) = \\frac{GM_{\\rm BH}}{r}$"
   ]
  },
  {
   "cell_type": "markdown",
   "metadata": {},
   "source": [
    "### Energy / Angular Momentum Bounds\n",
    "### $E = \\Phi(r) - \\frac{1}{2}v^2$\n",
    "### $E_{\\rm min} = 0$\n",
    "### $E_{\\rm max} = \\Phi_P(r=0) = \\frac{-GM_0}{r_0}$\n",
    "### $R \\equiv J^2/J_c^2$\n",
    "### $J_c$ is the specific angular momentum of a circular orbit, so even though $J = J(E)$, $R$ is always bounded between $0$ and $1$\n",
    "### $J = r|\\hat{r}\\times\\vec{v}|$\n",
    "### $R_{\\rm min} = 0$\n",
    "### $R_{\\rm max} = 1$"
   ]
  },
  {
   "cell_type": "markdown",
   "metadata": {},
   "source": [
    "### How to convert between code grid $E$, $R$ and physical position $r$, velocity vector $\\vec{v}$?\n",
    "### $N(E,R)dEdR = \\int_{r_-}^{r_+} 4\\pi r^2 dr(fd^3v)$ (Eq. 17 of Cohn+Kulsrud 1978)"
   ]
  },
  {
   "cell_type": "code",
   "execution_count": null,
   "metadata": {},
   "outputs": [],
   "source": [
    "def plummer_distribution(r, r0, M0):\n",
    "    # https://en.wikipedia.org/wiki/Plummer_model#:~:text=The%20Plummer%20model%20or%20Plummer,body%20simulations%20of%20stellar%20systems.\n",
    "    return (3*M0/(4*np.pi*r0**3.))*(1. + r*r/r0/r0)**(-5./2.)\n",
    "\n",
    "def bh_potential(r, Mbh):\n",
    "    return Mbh/r\n",
    "\n"
   ]
  },
  {
   "cell_type": "code",
   "execution_count": 4,
   "metadata": {},
   "outputs": [
    {
     "ename": "SyntaxError",
     "evalue": "unexpected EOF while parsing (<ipython-input-4-8715dccb060c>, line 1)",
     "output_type": "error",
     "traceback": [
      "\u001b[0;36m  File \u001b[0;32m\"<ipython-input-4-8715dccb060c>\"\u001b[0;36m, line \u001b[0;32m1\u001b[0m\n\u001b[0;31m    def generate_distribution(rmin, rmax, v_type='isotropic'):\u001b[0m\n\u001b[0m                                                              ^\u001b[0m\n\u001b[0;31mSyntaxError\u001b[0m\u001b[0;31m:\u001b[0m unexpected EOF while parsing\n"
     ]
    }
   ],
   "source": [
    "def generate_distribution(rmin, rmax, r0, p_type='plummer', v_type='isotropic'):\n",
    "    \n",
    "    if p_type == 'plummer':\n",
    "        rho = plummer_distribution(r, r0, 1)"
   ]
  },
  {
   "cell_type": "markdown",
   "metadata": {},
   "source": [
    "### Equations 3-4 of of Takahashi 1995\n",
    "### $A\\frac{\\partial f}{\\partial t} = - \\frac{\\partial F_E}{\\partial E} - \\frac{\\partial F_R}{\\partial R}$\n",
    "### $-F_E = D_{EE}\\frac{\\partial f}{\\partial E} + D_{ER}\\frac{\\partial f}{\\partial R} + D_E f$\n",
    "### $-F_R = D_{RE}\\frac{\\partial f}{\\partial E} + D_{RR}\\frac{\\partial f}{\\partial R} + D_R f$\n",
    "### Appendix C of Cohn 1979\n",
    "### $D_{EE} = \\frac{8\\pi^2}{3}J_c^2(E) \\int \\frac{dr}{v_r}v^2(F_0 + F_2)$\n",
    "### $D_E = -8\\pi^2J_c^2(E) \\int \\frac{dr}{v_r}F_1$\n",
    "### $D_{ER} = D_{RE} = \\frac{16\\pi^2}{3}J^2\\int \\frac{dr}{v_r} \\left(\\frac{v^2}{v_c^2} - 1\\right)(F_0 + F_2)$\n",
    "### $D_{RR} = \\frac{16\\pi^2}{3}R\\int\\frac{dr}{v^2}\\left\\{2\\frac{r^2}{v^2}\\left[v_t^2\\left(\\frac{v^2}{v_c^2} - 1\\right)^2 + v_r^2\\right]F_0 + 3\\frac{r^2v_r^2}{v^2}F_1 + \\frac{r^2}{v^2}\\left[2v_t^2\\left(\\frac{v^2}{v_c^2}-1\\right)^2 - v_r^2\\right]F_2\\right\\}$\n",
    "### $D_R    = -16\\pi^2 R r_c^2 \\int \\frac{dr}{v_r}\\left(1 - \\frac{v_c^2}{v^2}\\right)F_1$\n",
    "### Appendix B of Cohn 1979\n",
    "### $F_0(E,r) = 4\\pi\\Gamma \\int_{-\\infty}^E dE' \\bar{f}(E',r)$\n",
    "### $F_1(E,r) = 4\\pi\\Gamma \\int_E^\\phi dE'\\bar{f}(E',r)\\left(\\frac{\\phi - E'}{\\phi - E}\\right)^{1/2}$\n",
    "### $F_2(E,r) = 4\\pi\\Gamma \\int_E^\\phi dE'\\bar{f}(E',r)\\left(\\frac{\\phi-E'}{\\phi - E}\\right)^{3/2}$\n",
    "### $\\Gamma = 4\\pi G^2m^2 {\\rm ln}\\Lambda$\n",
    "### ${\\rm ln}\\Lambda$ ~ logarithmic cutoff factor (?)\n",
    "### Equation 16 of Cohn 1979\n",
    "### $\\bar{f}(E,r) = \\frac{1}{2R_{\\rm max}^{1/2}}\\int_0^{R_{\\rm max}} \\frac{dR}{(R_{\\rm max} - R)^{1/2}}f(E,R)$\n",
    "### $R_{\\rm max}(E,r) = 2r^2[\\Phi(r) - E]/J_c^2$"
   ]
  },
  {
   "cell_type": "markdown",
   "metadata": {},
   "source": [
    "### We need to choose a radial grid to construct $\\bar{f}(E,r)$. This will later be used if we solve the Poisson equation, as well. \n",
    "### For a Plummer potential we can follow Takahashi 1995, who take $r_{\\rm min} = 10^{-8}\\,r_0$ and $r_{\\rm max} = 100\\,r_0$, where $r_0$ is the core radius of the Plummer potential\n",
    "### For a central SMBH, we can follow Cohn 1978, who ()"
   ]
  },
  {
   "cell_type": "code",
   "execution_count": null,
   "metadata": {},
   "outputs": [],
   "source": [
    "from scipy.integrate import trapz\n",
    "\n",
    "def calc_fbar(f,grid_r):\n",
    "    \n",
    "    grid_E = f.domain.grids[0]\n",
    "    grid_R = f.domain.grids[1]\n",
    "    fbar_domain = field.Domain((grid_E, grid_r))\n",
    "    fbar = field.Field(fbar_domain)\n",
    "    \n",
    "    E_data = grid_E.values[:]\n",
    "    R_data = grid_R.values[:]\n",
    "    r_data = grid_r.values[:]\n",
    "    \n",
    "    \n",
    "    # Construct an integrand that is a 3D grid in (E, r, R) space; trapz() will integrate out the R dimension. \n",
    "    integrand_r = r_data[None,:,None]\n",
    "    integrand_E = E_data[:,None,None]\n",
    "    \n",
    "    Jc   = np.sqrt(dpotential_dr(integrand_r)*integrand_r**3.)\n",
    "    Rmax = 2*integrand_r*(potential(integrand_r)-integrand_E)/Jc**2.\n",
    "    \n",
    "    # R varies from 0 to Rmax. Assume R grid starts at 0!\n",
    "    ind_Rmax = np.argmin(np.abs(R_data - Rmax))\n",
    "    integrand_R = R_data[None,None,:ind_Rmax]\n",
    "    integrand_f = f.values[:,None,:ind_Rmax] # add middle axis to f for r dimension\n",
    "    integrand = integrand_f/(Rmax - integrand_R)**1.5\n",
    "    \n",
    "    # for output data\n",
    "    np.copyto(fbar.data, (1./2./Rmax[:,:,0]**0.5)*trapz(integrand, integrand_R, axis=-1))\n",
    "    \n",
    "def calc_F012(fbar):\n",
    "    Gamma = 4*pi*G*G*m*m*np.log(Lambda) # Lambda ~ logarithmic cutoff factor, G ~ gravitational constant, m ~ mass of individual star\n",
    "    \n",
    "    \n",
    "    grid_E = fbar.domain.grids[0]\n",
    "    grid_r = fbar.domain.grids[1]\n",
    "    fbar_domain = field.Domain((grid_E, grid_r))\n",
    "    fbar = field.Field(fbar_domain)\n",
    " \n",
    "    # Check to make sure arrays dont occupy same place in memory. the '[:]' part does this for us, I think?\n",
    "    E_data = grid_E.values[:]\n",
    "    r_data = grid_r.values[:]  \n",
    "    Eprime_data = grid_E.values[:]\n",
    "    "
   ]
  },
  {
   "cell_type": "code",
   "execution_count": 56,
   "metadata": {},
   "outputs": [
    {
     "name": "stdout",
     "output_type": "stream",
     "text": [
      "[0 1 2 3 4 5 6 7 8 9] [0 1 2 3 4 5 6 7 8 9]\n",
      "[[0 1 2 3 4 5 6 7 8 9]\n",
      " [0 1 2 3 4 5 6 7 8 9]\n",
      " [0 1 2 3 4 5 6 7 8 9]\n",
      " [0 1 2 3 4 5 6 7 8 9]\n",
      " [0 1 2 3 4 5 6 7 8 9]\n",
      " [0 1 2 3 4 5 6 7 8 9]\n",
      " [0 1 2 3 4 5 6 7 8 9]\n",
      " [0 1 2 3 4 5 6 7 8 9]\n",
      " [0 1 2 3 4 5 6 7 8 9]\n",
      " [0 1 2 3 4 5 6 7 8 9]]\n",
      "[9. 9. 9. 9. 9. 9. 9. 9. 9. 9.]\n",
      "(10,)\n"
     ]
    }
   ],
   "source": [
    "x = np.arange(0,10)\n",
    "y = np.arange(0,10)\n",
    "\n",
    "print(x,y)\n",
    "X, Y = np.meshgrid(x,y)\n",
    "\n",
    "R = 1./(1. + Y**2.)\n",
    "\n",
    "\n",
    "from scipy.integrate import trapz\n",
    "\n",
    "#print(R.shape)\n",
    "#print(X.shape)\n",
    "\n",
    "#print(trapz(np.ones(np.shape(x)),x))\n",
    "\n",
    "I = trapz(np.ones(np.shape(X)), X,axis=-1)\n",
    "\n",
    "print(X)\n",
    "print(I)\n",
    "print(I.shape)"
   ]
  },
  {
   "cell_type": "code",
   "execution_count": 60,
   "metadata": {},
   "outputs": [
    {
     "name": "stdout",
     "output_type": "stream",
     "text": [
      "(10, 10, 1) (10, 10)\n"
     ]
    }
   ],
   "source": [
    "X_new = X[:,:,None]\n",
    "print(X_new.shape,X_new[:,:,0].shape)"
   ]
  }
 ],
 "metadata": {
  "kernelspec": {
   "display_name": "Python 3",
   "language": "python",
   "name": "python3"
  },
  "language_info": {
   "codemirror_mode": {
    "name": "ipython",
    "version": 3
   },
   "file_extension": ".py",
   "mimetype": "text/x-python",
   "name": "python",
   "nbconvert_exporter": "python",
   "pygments_lexer": "ipython3",
   "version": "3.8.5"
  }
 },
 "nbformat": 4,
 "nbformat_minor": 4
}
