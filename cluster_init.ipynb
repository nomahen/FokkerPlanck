{
 "cells": [
  {
   "cell_type": "code",
   "execution_count": 2,
   "metadata": {},
   "outputs": [],
   "source": [
    "import numpy as npt\n",
    "import matplotlib.pyplot as plt\n",
    "%matplotlib inline"
   ]
  },
  {
   "cell_type": "markdown",
   "metadata": {},
   "source": [
    "### Initial condition is some distribution $f_0(r, \\vec{v}) = f(r, \\vec{v}, 0)$ (which can equivalently be expressed in terms of energy and angular momentum)"
   ]
  },
  {
   "cell_type": "markdown",
   "metadata": {},
   "source": [
    "### Plummer model\n",
    "### $\\rho_P(r) = \\frac{3M_0}{4\\pi r_0^3}\\left(1 + \\frac{r^2}{r_0^2}\\right)^{-5/2}$\n",
    "### $\\Phi_P(r) = \\frac{GM_0}{\\sqrt{r^2 + r_0^2}}$\n",
    "### Black hole nuclear cluster\n",
    "### $\\Phi_{NC}(r) = \\frac{GM_{\\rm BH}}{r}$"
   ]
  },
  {
   "cell_type": "markdown",
   "metadata": {},
   "source": [
    "### Energy / Angular Momentum Bounds\n",
    "### $E = \\Phi(r) - \\frac{1}{2}v^2$\n",
    "### $E_{\\rm min} = 0$\n",
    "### $E_{\\rm max} = \\Phi_P(r=0) = \\frac{-GM_0}{r_0}$\n",
    "### $R \\equiv J^2/J_c^2$\n",
    "### $J_c$ is the specific angular momentum of a circular orbit, so even though $J = J(E)$, $R$ is always bounded between $0$ and $1$\n",
    "### $J = r|\\hat{r}\\times\\vec{v}|$\n",
    "### $R_{\\rm min} = 0$\n",
    "### $R_{\\rm max} = 1$"
   ]
  },
  {
   "cell_type": "markdown",
   "metadata": {},
   "source": [
    "### How to convert between code grid $E$, $R$ and physical position $r$, velocity vector $\\vec{v}$?\n",
    "### $N(E,R)dEdR = \\int_{r_-}^{r_+} 4\\pi r^2 dr(fd^3v)$ (Eq. 17 of Cohn+Kulsrud 1978)"
   ]
  },
  {
   "cell_type": "code",
   "execution_count": null,
   "metadata": {},
   "outputs": [],
   "source": [
    "def plummer_distribution(r, r0, M0):\n",
    "    # https://en.wikipedia.org/wiki/Plummer_model#:~:text=The%20Plummer%20model%20or%20Plummer,body%20simulations%20of%20stellar%20systems.\n",
    "    return (3*M0/(4*np.pi*r0**3.))*(1. + r*r/r0/r0)**(-5./2.)\n",
    "\n",
    "def bh_potential(r, Mbh):\n",
    "    return Mbh/r\n",
    "\n"
   ]
  },
  {
   "cell_type": "code",
   "execution_count": 4,
   "metadata": {},
   "outputs": [
    {
     "ename": "SyntaxError",
     "evalue": "unexpected EOF while parsing (<ipython-input-4-8715dccb060c>, line 1)",
     "output_type": "error",
     "traceback": [
      "\u001b[0;36m  File \u001b[0;32m\"<ipython-input-4-8715dccb060c>\"\u001b[0;36m, line \u001b[0;32m1\u001b[0m\n\u001b[0;31m    def generate_distribution(rmin, rmax, v_type='isotropic'):\u001b[0m\n\u001b[0m                                                              ^\u001b[0m\n\u001b[0;31mSyntaxError\u001b[0m\u001b[0;31m:\u001b[0m unexpected EOF while parsing\n"
     ]
    }
   ],
   "source": [
    "def generate_distribution(rmin, rmax, r0, p_type='plummer', v_type='isotropic'):\n",
    "    \n",
    "    if p_type == 'plummer':\n",
    "        rho = plummer_distribution(r, r0, 1)"
   ]
  },
  {
   "cell_type": "markdown",
   "metadata": {},
   "source": [
    "### Equations 3-4 of of Takahashi 1995\n",
    "### $A\\frac{\\partial f}{\\partial t} = - \\frac{\\partial F_E}{\\partial E} - \\frac{\\partial F_R}{\\partial R}$\n",
    "### $-F_E = D_{EE}\\frac{\\partial f}{\\partial E} + D_{ER}\\frac{\\partial f}{\\partial R} + D_E f$\n",
    "### $-F_R = D_{RE}\\frac{\\partial f}{\\partial E} + D_{RR}\\frac{\\partial f}{\\partial R} + D_R f$\n",
    "### Appendix C of Cohn 1979\n",
    "### $D_{EE} = \\frac{8\\pi^2}{3}J_c^2(E) \\int \\frac{dr}{v_r}v^2(F_0 + F_2)$\n",
    "### $D_E = -8\\pi^2J_c^2(E) \\int \\frac{dr}{v_r}F_1$\n",
    "### $D_{ER} = D_{RE} = \\frac{16\\pi^2}{3}J^2\\int \\frac{dr}{v_r} \\left(\\frac{v^2}{v_c^2} - 1\\right)(F_0 + F_2)$\n",
    "### $D_{RR} = \\frac{16\\pi^2}{3}R\\int\\frac{dr}{v^2}\\left\\{2\\frac{r^2}{v^2}\\left[v_t^2\\left(\\frac{v^2}{v_c^2} - 1\\right)^2 + v_r^2\\right]F_0 + 3\\frac{r^2v_r^2}{v^2}F_1 + \\frac{r^2}{v^2}\\left[2v_t^2\\left(\\frac{v^2}{v_c^2}-1\\right)^2 - v_r^2\\right]F_2\\right\\}$\n",
    "### $D_R    = -16\\pi^2 R r_c^2 \\int \\frac{dr}{v_r}\\left(1 - \\frac{v_c^2}{v^2}\\right)F_1$\n",
    "### Appendix B of Cohn 1979\n",
    "### $F_0(E,r) = 4\\pi\\Gamma \\int_{-\\infty}^E dE' \\bar{f}(E',r)$\n",
    "### $F_1(E,r) = 4\\pi\\Gamma \\int_E^\\phi dE'\\bar{f}(E',r)\\left(\\frac{\\phi - E'}{\\phi - E}\\right)^{1/2}$\n",
    "### $F_2(E,r) = 4\\pi\\Gamma \\int_E^\\phi dE'\\bar{f}(E',r)\\left(\\frac{\\phi-E'}{\\phi - E}\\right)^{3/2}$\n",
    "### $\\Gamma = 4\\pi G^2m^2 {\\rm ln}\\Lambda$\n",
    "### ${\\rm ln}\\Lambda$ ~ logarithmic cutoff factor (?)\n",
    "### Equation 16 of Cohn 1979\n",
    "### $\\bar{f}(E,r) = \\frac{1}{2R_{\\rm max}^{1/2}}\\int_0^{R_{\\rm max}} \\frac{dR}{(R_{\\rm max} - R)^{1/2}}f(E,R)$"
   ]
  }
 ],
 "metadata": {
  "kernelspec": {
   "display_name": "Python 3",
   "language": "python",
   "name": "python3"
  },
  "language_info": {
   "codemirror_mode": {
    "name": "ipython",
    "version": 3
   },
   "file_extension": ".py",
   "mimetype": "text/x-python",
   "name": "python",
   "nbconvert_exporter": "python",
   "pygments_lexer": "ipython3",
   "version": "3.8.5"
  }
 },
 "nbformat": 4,
 "nbformat_minor": 4
}
