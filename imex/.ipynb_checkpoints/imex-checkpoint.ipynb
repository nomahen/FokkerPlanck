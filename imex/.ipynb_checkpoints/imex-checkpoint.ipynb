{
 "cells": [
  {
   "cell_type": "code",
   "execution_count": 1,
   "metadata": {},
   "outputs": [],
   "source": [
    "import numpy as np\n",
    "import matplotlib.pyplot as plt\n",
    "import field\n",
    "import spatial\n",
    "import timesteppers\n",
    "import scipy.sparse.linalg as spla\n",
    "from scipy import sparse\n",
    "\n",
    "from timesteppers import *\n",
    "\n",
    "from field import *\n",
    "from spatial import FiniteDifferenceUniformGrid\n",
    "\n",
    "%matplotlib inline"
   ]
  },
  {
   "cell_type": "markdown",
   "metadata": {},
   "source": [
    "### $ \\frac{\\partial p}{\\partial t} = - \\frac{\\partial}{\\partial x} [ \\mu(x,t) p(x,t) ] + \\frac{\\partial^2}{\\partial x^2} [ D(x,t) p(x,t) ]$"
   ]
  },
  {
   "cell_type": "code",
   "execution_count": 2,
   "metadata": {},
   "outputs": [],
   "source": [
    "#IMEX scheme for 1D Fokker-Planck equation\n",
    "\n",
    "class FK1D_IMEX:\n",
    "    \n",
    "    def __init__(self, p, D, mu,spatial_order=4):\n",
    "        \n",
    "        self.grid=p.grid\n",
    "        \n",
    "        self.X = FieldSystem([p])\n",
    "        \n",
    "        pt = Field(self.grid)\n",
    "        \n",
    "        dx = FiniteDifferenceUniformGrid(1, spatial_order, p*mu)\n",
    "        dx2 = FiniteDifferenceUniformGrid(2, spatial_order, p*D)\n",
    "        \n",
    "        LHS = pt - dx2\n",
    "        \n",
    "        self.M = LHS.field_coeff(pt)\n",
    "        self.L = LHS.field_coeff(p)\n",
    "        \n",
    "        self.F_ops = [-dx]"
   ]
  },
  {
   "cell_type": "code",
   "execution_count": 3,
   "metadata": {},
   "outputs": [
    {
     "name": "stderr",
     "output_type": "stream",
     "text": [
      "/home/fulya/packages/anaconda3/anaconda3/lib/python3.8/site-packages/scipy/sparse/_index.py:124: SparseEfficiencyWarning: Changing the sparsity structure of a csr_matrix is expensive. lil_matrix is more efficient.\n",
      "  self._set_arrayXarray(i, j, x)\n"
     ]
    },
    {
     "data": {
      "text/plain": [
       "[<matplotlib.lines.Line2D at 0x7f26663b3970>]"
      ]
     },
     "execution_count": 3,
     "metadata": {},
     "output_type": "execute_result"
    },
    {
     "data": {
      "image/png": "[encoded data removed]",
      "text/plain": [
       "<Figure size 432x288 with 1 Axes>"
      ]
     },
     "metadata": {
      "needs_background": "light"
     },
     "output_type": "display_data"
    }
   ],
   "source": [
    "grid = field.UniformPeriodicGrid(100, 2*np.pi)\n",
    "x = grid.values\n",
    "p = field.Field(grid)\n",
    "\n",
    "alpha = 0.2\n",
    "mu = 0.5 #drift coefficient\n",
    "D=0.1 #diffusion coefficient\n",
    "dt = alpha*grid.dx\n",
    "IC = np.exp(-(x-np.pi)**2*8)\n",
    "p.data[:] = IC\n",
    "FK = FK1D_IMEX(p,D,mu,spatial_order=4)\n",
    "ts = timesteppers.CNAB(FK)\n",
    "tmax = 1-1e-5\n",
    "while ts.t < tmax:\n",
    "    ts.step(dt)\n",
    "   \n",
    "plt.plot(x,p.data)\n",
    "plt.plot(x,IC)"
   ]
  },
  {
   "cell_type": "code",
   "execution_count": 16,
   "metadata": {},
   "outputs": [
    {
     "name": "stderr",
     "output_type": "stream",
     "text": [
      "/home/fulya/packages/anaconda3/anaconda3/lib/python3.8/site-packages/scipy/sparse/_index.py:124: SparseEfficiencyWarning: Changing the sparsity structure of a csr_matrix is expensive. lil_matrix is more efficient.\n",
      "  self._set_arrayXarray(i, j, x)\n"
     ]
    },
    {
     "data": {
      "text/plain": [
       "[<matplotlib.lines.Line2D at 0x7f009223b910>]"
      ]
     },
     "execution_count": 16,
     "metadata": {},
     "output_type": "execute_result"
    },
    {
     "data": {
      "image/png": "[encoded data removed]",
      "text/plain": [
       "<Figure size 432x288 with 1 Axes>"
      ]
     },
     "metadata": {
      "needs_background": "light"
     },
     "output_type": "display_data"
    }
   ],
   "source": [
    "grid = field.UniformPeriodicGrid(100, 2*np.pi)\n",
    "x = grid.values\n",
    "p = field.Field(grid)\n",
    "gamma=0.5\n",
    "alpha = 0.2\n",
    "mu = field.Array(grid,gamma*np.ones(p.data.shape)) #drift coefficient\n",
    "D=0.1 #diffusion coefficient\n",
    "dt = alpha*grid.dx\n",
    "IC = np.exp(-(x-np.pi)**2*8)\n",
    "p.data[:] = IC\n",
    "FK = FK1D_IMEX(p,D,mu,spatial_order=4)\n",
    "ts = timesteppers.CNAB(FK)\n",
    "tmax = 1-1e-5\n",
    "while ts.t < tmax:\n",
    "    ts.step(dt)\n",
    "   \n",
    "plt.plot(x,p.data)\n",
    "plt.plot(x,IC)\n"
   ]
  },
  {
   "cell_type": "code",
   "execution_count": null,
   "metadata": {},
   "outputs": [],
   "source": []
  },
  {
   "cell_type": "code",
   "execution_count": null,
   "metadata": {},
   "outputs": [],
   "source": []
  },
  {
   "cell_type": "code",
   "execution_count": null,
   "metadata": {},
   "outputs": [],
   "source": []
  }
 ],
 "metadata": {
  "kernelspec": {
   "display_name": "Python 3",
   "language": "python",
   "name": "python3"
  },
  "language_info": {
   "codemirror_mode": {
    "name": "ipython",
    "version": 3
   },
   "file_extension": ".py",
   "mimetype": "text/x-python",
   "name": "python",
   "nbconvert_exporter": "python",
   "pygments_lexer": "ipython3",
   "version": "3.8.3"
  }
 },
 "nbformat": 4,
 "nbformat_minor": 2
}
