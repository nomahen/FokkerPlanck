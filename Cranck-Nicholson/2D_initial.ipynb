{
 "cells": [
  {
   "cell_type": "code",
   "execution_count": null,
   "metadata": {},
   "outputs": [],
   "source": [
    "%matplotlib notebook\n",
    "import numpy as np\n",
    "import matplotlib.pyplot as plt\n",
    "import field\n",
    "import spatial\n",
    "import timesteppers\n",
    "import scipy.sparse.linalg as spla\n",
    "from scipy import sparse"
   ]
  },
  {
   "cell_type": "code",
   "execution_count": null,
   "metadata": {},
   "outputs": [],
   "source": [
    "def plot_2D_field(xm, ym, data):\n",
    "    fig = plt.figure(figsize=(4,3))\n",
    "    ax = fig.add_subplot(111)\n",
    "    pcm = ax.pcolormesh(xm, ym, data)\n",
    "    ax.set_aspect(1)\n",
    "    fig.colorbar(pcm)\n",
    "    ax.set_xlabel('x')\n",
    "    ax.set_ylabel('y')"
   ]
  },
  {
   "cell_type": "markdown",
   "metadata": {},
   "source": [
    "## Introduction\n",
    "\n",
    "I've made some changes to our files so we can solve equations in multiple spatial dimensions. Now you can make multiple `Grid`s and put them together into a `Domain`. Previously, we would often pass the `Grid` to different objects (`Field`, `Operator`, etc.); now instead we will pass the `Domain`."
   ]
  },
  {
   "cell_type": "code",
   "execution_count": null,
   "metadata": {},
   "outputs": [],
   "source": []
  },
  {
   "cell_type": "markdown",
   "metadata": {},
   "source": [
    "When you make derivative operators, you now need to specify the direction the derivative is being taken in."
   ]
  },
  {
   "cell_type": "code",
   "execution_count": null,
   "metadata": {},
   "outputs": [],
   "source": []
  },
  {
   "cell_type": "markdown",
   "metadata": {},
   "source": [
    "## Advection Problem\n",
    "\n",
    "Now we're going to do a simple advection problem. We will solve\n",
    "$$\\partial_t c + \\boldsymbol{u}\\boldsymbol{\\cdot}\\boldsymbol{\\nabla} c = 0$$\n",
    "Here $\\boldsymbol{u}=(u, v)$ is a constant advection velocity. We will solve this problem using an explicit method."
   ]
  },
  {
   "cell_type": "code",
   "execution_count": null,
   "metadata": {},
   "outputs": [],
   "source": [
    "class Advection:\n",
    "    \n",
    "    def __init__(self, X, u, v, dcdx, dcdy):\n",
    "        pass"
   ]
  },
  {
   "cell_type": "code",
   "execution_count": null,
   "metadata": {},
   "outputs": [],
   "source": [
    "N = 100\n",
    "grid_x = field.UniformPeriodicGrid(N, 2*np.pi)\n",
    "grid_y = field.UniformPeriodicGrid(N, 2*np.pi)\n",
    "domain = field.Domain((grid_x, grid_y))\n",
    "x, y = domain.values()\n",
    "xm, ym = domain.plotting_arrays()"
   ]
  },
  {
   "cell_type": "markdown",
   "metadata": {},
   "source": [
    "To timestep the problem, we use a new `ExplicitTimestepper`."
   ]
  },
  {
   "cell_type": "code",
   "execution_count": null,
   "metadata": {},
   "outputs": [],
   "source": []
  },
  {
   "cell_type": "markdown",
   "metadata": {},
   "source": [
    "## Implicit Timestepping\n",
    "\n",
    "Implicit timestepping is a bit more complicated in 2D. We need to think about the matrix form of our operators."
   ]
  },
  {
   "cell_type": "code",
   "execution_count": null,
   "metadata": {},
   "outputs": [],
   "source": [
    "N = 10\n",
    "grid_x = field.UniformPeriodicGrid(N, 2*np.pi)\n",
    "grid_y = field.UniformPeriodicGrid(N, 2*np.pi)\n",
    "domain = field.Domain((grid_x, grid_y))\n",
    "x, y = domain.values()\n",
    "\n",
    "u = field.Field(domain)"
   ]
  },
  {
   "cell_type": "code",
   "execution_count": null,
   "metadata": {},
   "outputs": [],
   "source": []
  },
  {
   "cell_type": "code",
   "execution_count": null,
   "metadata": {},
   "outputs": [],
   "source": [
    "fig = plt.figure(figsize=(4,3))\n",
    "ax = fig.add_subplot(111)\n",
    "pcm = ax.pcolormesh(xm, ym, c.data)\n",
    "ax.set_aspect(1)\n",
    "fig.colorbar(pcm)\n",
    "ax.set_xlabel('x')\n",
    "ax.set_ylabel('y')\n",
    "fig.canvas.draw()\n",
    "while ts.t < 2*np.pi:\n",
    "    ts.step(dt)\n",
    "    if ts.iter % 50 == 0:\n",
    "        pcm.set_array(np.ravel(c.data))\n",
    "        fig.canvas.draw()"
   ]
  },
  {
   "cell_type": "markdown",
   "metadata": {},
   "source": [
    "## Diffusion Problem\n",
    "\n",
    "As an example of a problem we can solve with implicit timestepping, we will solve the 2D diffusion problem\n",
    "$$\\partial_t c - D \\nabla^2 c = \\partial_t c - D (\\partial_x^2 + \\partial_y^2) c = 0.$$\n",
    "This equation has the azimuthally symmetric solution\n",
    "$$c(r,t) = \\frac{1}{t}\\exp(-r^2/(4t)).$$\n",
    "We will use operator splitting and solve these two equations separately:\n",
    "$$\\partial_t c - D \\partial_x^2 c = 0$$\n",
    "$$\\partial_t c - D \\partial_y^2 c = 0$$"
   ]
  },
  {
   "cell_type": "code",
   "execution_count": null,
   "metadata": {},
   "outputs": [],
   "source": [
    "class Diffusionx:\n",
    "    \n",
    "    def __init__(self, X, D, dcdx2):\n",
    "        pass\n",
    "        \n",
    "class Diffusiony:\n",
    "    \n",
    "    def __init__(self, X, D, dcdy2):\n",
    "        pass"
   ]
  },
  {
   "cell_type": "code",
   "execution_count": null,
   "metadata": {},
   "outputs": [],
   "source": [
    "N = 200\n",
    "grid_x = field.UniformPeriodicGrid(N, 20)\n",
    "grid_y = field.UniformPeriodicGrid(N, 20)\n",
    "domain = field.Domain((grid_x, grid_y))\n",
    "x, y = domain.values()\n",
    "xm, ym = domain.plotting_arrays()\n",
    "\n",
    "r = np.sqrt((x-10)**2 + (y-10)**2)\n",
    "\n",
    "IC = np.exp(-r**2/4)\n",
    "# t = 2, so evolve forward for 1 unit\n",
    "target = 1/2*np.exp(-r**2/8)"
   ]
  },
  {
   "cell_type": "markdown",
   "metadata": {},
   "source": [
    "To timestep this problem, we will use an `ImplicitTimestepper`."
   ]
  },
  {
   "cell_type": "code",
   "execution_count": null,
   "metadata": {},
   "outputs": [],
   "source": []
  },
  {
   "cell_type": "code",
   "execution_count": null,
   "metadata": {},
   "outputs": [],
   "source": [
    "fig = plt.figure(figsize=(4,3))\n",
    "ax = fig.add_subplot(111)\n",
    "pcm = ax.pcolormesh(xm, ym, c.data)\n",
    "ax.set_aspect(1)\n",
    "fig.colorbar(pcm)\n",
    "ax.set_xlabel('x')\n",
    "ax.set_ylabel('y')\n",
    "fig.canvas.draw()\n",
    "while ts_x.t < 1 - 1e-5:\n",
    "    step_xy(dt)\n",
    "    if ts_x.iter % 1 == 0:\n",
    "        pcm.set_array(np.ravel(c.data))\n",
    "        pcm.set_clim([0,np.max(c.data)])\n",
    "        fig.canvas.draw()\n",
    "print(ts_x.t - 1)"
   ]
  },
  {
   "cell_type": "code",
   "execution_count": null,
   "metadata": {},
   "outputs": [],
   "source": []
  }
 ],
 "metadata": {
  "kernelspec": {
   "display_name": "Python 3",
   "language": "python",
   "name": "python3"
  },
  "language_info": {
   "codemirror_mode": {
    "name": "ipython",
    "version": 3
   },
   "file_extension": ".py",
   "mimetype": "text/x-python",
   "name": "python",
   "nbconvert_exporter": "python",
   "pygments_lexer": "ipython3",
   "version": "3.8.5"
  }
 },
 "nbformat": 4,
 "nbformat_minor": 4
}
