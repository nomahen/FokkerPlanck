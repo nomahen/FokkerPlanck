{
 "cells": [
  {
   "cell_type": "code",
   "execution_count": 1,
   "metadata": {},
   "outputs": [],
   "source": [
    "import numpy as np\n",
    "import matplotlib.pyplot as plt\n",
    "import field\n",
    "import spatial\n",
    "import timesteppers\n",
    "import scipy.sparse.linalg as spla\n",
    "from scipy.integrate import trapz\n",
    "from scipy import sparse\n",
    "import scipy.signal as signal\n",
    "\n",
    "from timesteppers import *\n",
    "\n",
    "from field import *\n",
    "from spatial import FiniteDifferenceUniformGrid\n",
    "\n",
    "%matplotlib inline"
   ]
  },
  {
   "cell_type": "code",
   "execution_count": 35,
   "metadata": {},
   "outputs": [],
   "source": [
    "resolution = 50\n",
    "alpha = .1\n",
    "spatial_order = 4\n",
    "\n",
    "grid_x = field.UniformNonPeriodicGrid(resolution,(0,2*np.pi))\n",
    "domain = field.Domain((grid_x,))\n",
    "x, = domain.values()\n",
    "\n",
    "p = field.Field(domain)\n",
    "D=field.Array(domain, 0.5*np.ones(p.data.shape))"
   ]
  },
  {
   "cell_type": "code",
   "execution_count": 36,
   "metadata": {},
   "outputs": [
    {
     "name": "stderr",
     "output_type": "stream",
     "text": [
      "/home/nkaaz/.local/lib/python3.8/site-packages/scipy/sparse/_index.py:125: SparseEfficiencyWarning: Changing the sparsity structure of a csr_matrix is expensive. lil_matrix is more efficient.\n",
      "  self._set_arrayXarray(i, j, x)\n"
     ]
    }
   ],
   "source": [
    "dx=FiniteDifferenceUniformGrid(1, 4, p, axis=0)"
   ]
  },
  {
   "cell_type": "code",
   "execution_count": 46,
   "metadata": {},
   "outputs": [
    {
     "name": "stdout",
     "output_type": "stream",
     "text": [
      "(50, 50)\n",
      "  (0, 0)\t-1.5030207651060387e-15\n",
      "  (0, 1)\t5.305164769729845\n",
      "  (0, 2)\t-0.6631455962162305\n",
      "  (0, 48)\t0.6631455962162311\n",
      "  (0, 49)\t-5.305164769729844\n"
     ]
    }
   ],
   "source": [
    "dx=FiniteDifferenceUniformGrid(1, 4, p, axis=0)\n",
    "dx.matrix = dx.matrix.tocsr()\n",
    "\n",
    "print(dx.matrix.shape)\n",
    "\n",
    "#deriv_matrix = deriv_matrix.tocsr()\n",
    "\n",
    "for row in dx.matrix: row*= 0.5*np.ones(resolution) \n",
    "    \n",
    "#deriv_matrix.eliminate_zeros()\n",
    "\n",
    "print(dx.matrix[0])"
   ]
  },
  {
   "cell_type": "code",
   "execution_count": 47,
   "metadata": {},
   "outputs": [
    {
     "name": "stdout",
     "output_type": "stream",
     "text": [
      "(50, 50)\n",
      "  (0, 0)\t-1.5030207651060387e-15\n",
      "  (0, 1)\t5.305164769729845\n",
      "  (0, 2)\t-0.6631455962162305\n",
      "  (0, 48)\t0.6631455962162311\n",
      "  (0, 49)\t-5.305164769729844\n"
     ]
    }
   ],
   "source": [
    "dx_=FiniteDifferenceUniformGrid(1, 4, p, axis=0)\n",
    "D_matrix = np.repeat(0.5*np.ones(resolution)[:,None], resolution, axis=-1)\n",
    "print(D_matrix.shape)\n",
    "\n",
    "deriv_matrix_2 = dx_.matrix.tocsr() * D_matrix\n",
    "\n",
    "print(dx_.matrix[0])"
   ]
  },
  {
   "cell_type": "code",
   "execution_count": 51,
   "metadata": {},
   "outputs": [],
   "source": [
    "#for i in range(resolution):\n",
    "#    print(dx.matrix[i] == dx_.matrix[i])"
   ]
  },
  {
   "cell_type": "markdown",
   "metadata": {},
   "source": [
    "### $p(x) = e^{x},\\,D(x)=x$\n",
    "### $\\frac{d(D(x)p(x))}{dx} = D\\frac{dp}{dx} + p\\frac{dD}{dx} = (x+1)e^{x}$"
   ]
  },
  {
   "cell_type": "code",
   "execution_count": 99,
   "metadata": {},
   "outputs": [],
   "source": [
    "resolution = 100\n",
    "alpha = .1\n",
    "spatial_order = 4\n",
    "\n",
    "grid_x = field.UniformNonPeriodicGrid(resolution,(0,2*np.pi))\n",
    "domain = field.Domain((grid_x,))\n",
    "x, = domain.values()\n",
    "\n",
    "p = field.Field(domain)\n",
    "D=(1+x)**(-2)\n",
    "IC = np.exp(x)\n",
    "\n",
    "p.data[:] = np.copy(IC)\n",
    "#field.Array(domain, 0.5*np.ones(p.data.shape))"
   ]
  },
  {
   "cell_type": "code",
   "execution_count": 100,
   "metadata": {},
   "outputs": [
    {
     "name": "stderr",
     "output_type": "stream",
     "text": [
      "/home/nkaaz/.local/lib/python3.8/site-packages/scipy/sparse/_index.py:125: SparseEfficiencyWarning: Changing the sparsity structure of a csr_matrix is expensive. lil_matrix is more efficient.\n",
      "  self._set_arrayXarray(i, j, x)\n"
     ]
    },
    {
     "data": {
      "text/plain": [
       "[<matplotlib.lines.Line2D at 0x7f518425d310>]"
      ]
     },
     "execution_count": 100,
     "metadata": {},
     "output_type": "execute_result"
    },
    {
     "data": {
      "image/png": "[encoded data removed]",
      "text/plain": [
       "<Figure size 432x288 with 1 Axes>"
      ]
     },
     "metadata": {
      "needs_background": "light"
     },
     "output_type": "display_data"
    }
   ],
   "source": [
    "dx=FiniteDifferenceUniformGrid(1, 4, p, axis=0)\n",
    "sol = dx.operate()\n",
    "plt.plot(x,sol.data)\n",
    "plt.plot(x,IC)"
   ]
  },
  {
   "cell_type": "code",
   "execution_count": 118,
   "metadata": {},
   "outputs": [
    {
     "name": "stderr",
     "output_type": "stream",
     "text": [
      "/home/nkaaz/.local/lib/python3.8/site-packages/scipy/sparse/_index.py:125: SparseEfficiencyWarning: Changing the sparsity structure of a csr_matrix is expensive. lil_matrix is more efficient.\n",
      "  self._set_arrayXarray(i, j, x)\n"
     ]
    },
    {
     "data": {
      "text/plain": [
       "(-20.0, 20.0)"
      ]
     },
     "execution_count": 118,
     "metadata": {},
     "output_type": "execute_result"
    },
    {
     "data": {
      "image/png": "[encoded data removed]",
      "text/plain": [
       "<Figure size 432x288 with 1 Axes>"
      ]
     },
     "metadata": {
      "needs_background": "light"
     },
     "output_type": "display_data"
    }
   ],
   "source": [
    "dx=FiniteDifferenceUniformGrid(1, 4, p, axis=0)\n",
    "\n",
    "apply_array_to_fd(dx, D)\n",
    "\n",
    "sol = dx.operate()\n",
    "plt.plot(x,sol.data)\n",
    "#plt.plot(x,np.exp(x),ls='--')\n",
    "plt.plot(x,((1+x)**(-2)-2*(1+x)**(-3))*np.exp(x),ls='--')\n",
    "\n",
    "plt.ylim(-20,20)"
   ]
  },
  {
   "cell_type": "code",
   "execution_count": 148,
   "metadata": {},
   "outputs": [
    {
     "name": "stdout",
     "output_type": "stream",
     "text": [
      "(100, 1)\n",
      "[  1.03191462   1.09883198   1.17008879   1.24596644   1.32676459\n",
      "   1.41280232   1.5044194    1.60197765   1.70586233   1.81648371\n",
      "   1.93427863   2.05971229   2.19328005   2.33550938   2.48696196\n",
      "   2.64823591   2.81996811   3.00283676   3.19756404   3.40491895\n",
      "   3.62572036   3.86084025   4.11120714   4.37780977   4.66170099\n",
      "   4.96400192   5.28590639   5.62868565   5.99369338   6.38237105\n",
      "   6.7962536    7.23697551   7.70627726   8.20601218   8.73815379\n",
      "   9.30480361   9.90819941  10.55072407  11.23491504  11.96347426\n",
      "  12.73927893  13.5653928   14.44507832  15.38180948  16.37928557\n",
      "  17.44144577  18.57248469  19.77686897  21.05935488  22.42500716\n",
      "  23.87921894  25.42773311  27.07666498  28.83252642  30.70225155\n",
      "  32.6932242   34.81330699  37.07087243  39.47483596  42.03469118\n",
      "  44.7605473   47.66316913  50.75401951  54.04530466  57.55002233\n",
      "  61.28201313  65.25601522  69.4877225   73.99384658  78.79218277\n",
      "  83.90168037  89.34251752  95.13618084 101.30555033 107.87498969\n",
      " 114.87044257 122.31953499 130.25168446 138.69821617 147.69248664\n",
      " 157.27001553 167.46862585 178.32859333 189.89280552 202.20693113\n",
      " 215.31960035 229.28259698 244.15106285 259.98371563 276.84308068\n",
      " 294.79573801 313.9125852  334.26911736 355.9457253  379.028013\n",
      " 403.60713566 429.7801597  457.65044606 487.32805843 518.93019789] [  1.03191462   1.09883198   1.17008879   1.24596644   1.32676459\n",
      "   1.41280232   1.5044194    1.60197765   1.70586233   1.81648371\n",
      "   1.93427863   2.05971229   2.19328005   2.33550938   2.48696196\n",
      "   2.64823591   2.81996811   3.00283676   3.19756404   3.40491895\n",
      "   3.62572036   3.86084025   4.11120714   4.37780977   4.66170099\n",
      "   4.96400192   5.28590639   5.62868565   5.99369338   6.38237105\n",
      "   6.7962536    7.23697551   7.70627726   8.20601218   8.73815379\n",
      "   9.30480361   9.90819941  10.55072407  11.23491504  11.96347426\n",
      "  12.73927893  13.5653928   14.44507832  15.38180948  16.37928557\n",
      "  17.44144577  18.57248469  19.77686897  21.05935488  22.42500716\n",
      "  23.87921894  25.42773311  27.07666498  28.83252642  30.70225155\n",
      "  32.6932242   34.81330699  37.07087243  39.47483596  42.03469118\n",
      "  44.7605473   47.66316913  50.75401951  54.04530466  57.55002233\n",
      "  61.28201313  65.25601522  69.4877225   73.99384658  78.79218277\n",
      "  83.90168037  89.34251752  95.13618084 101.30555033 107.87498969\n",
      " 114.87044257 122.31953499 130.25168446 138.69821617 147.69248664\n",
      " 157.27001553 167.46862585 178.32859333 189.89280552 202.20693113\n",
      " 215.31960035 229.28259698 244.15106285 259.98371563 276.84308068\n",
      " 294.79573801 313.9125852  334.26911736 355.9457253  379.028013\n",
      " 403.60713566 429.7801597  457.65044606 487.32805843 518.93019789]\n"
     ]
    }
   ],
   "source": [
    "resolution = 100\n",
    "alpha = .1\n",
    "spatial_order = 4\n",
    "\n",
    "grid_x = field.UniformNonPeriodicGrid(resolution,(0,2*np.pi))\n",
    "grid_y = field.UniformNonPeriodicGrid(resolution,(0,2*np.pi))\n",
    "domain = field.Domain((grid_x,grid_y))\n",
    "x,y = domain.values()\n",
    "\n",
    "p = field.Field(domain)\n",
    "D=(1+x)**(-2)\n",
    "print(x.shape)\n",
    "IC = np.exp(x)\n",
    "\n",
    "p.data[:] = np.copy(IC)\n",
    "\n",
    "print(p.data[:,0],p.data[:,1])"
   ]
  },
  {
   "cell_type": "code",
   "execution_count": 149,
   "metadata": {},
   "outputs": [
    {
     "name": "stdout",
     "output_type": "stream",
     "text": [
      "(100, 100)\n",
      "(100, 100)\n",
      "(100, 1)\n"
     ]
    },
    {
     "name": "stderr",
     "output_type": "stream",
     "text": [
      "/home/nkaaz/.local/lib/python3.8/site-packages/scipy/sparse/_index.py:125: SparseEfficiencyWarning: Changing the sparsity structure of a csr_matrix is expensive. lil_matrix is more efficient.\n",
      "  self._set_arrayXarray(i, j, x)\n"
     ]
    },
    {
     "data": {
      "text/plain": [
       "(-20.0, 20.0)"
      ]
     },
     "execution_count": 149,
     "metadata": {},
     "output_type": "execute_result"
    },
    {
     "data": {
      "image/png": "[encoded data removed]",
      "text/plain": [
       "<Figure size 432x288 with 1 Axes>"
      ]
     },
     "metadata": {
      "needs_background": "light"
     },
     "output_type": "display_data"
    }
   ],
   "source": [
    "\n",
    "\n",
    "dx=FiniteDifferenceUniformGrid(1, 4, p, axis=0)\n",
    "\n",
    "def apply_array_to_fd(dx, arr):\n",
    "    axis = dx.axis\n",
    "    if axis == 0:\n",
    "        arr = np.reshape(arr, (np.prod(arr.shape)))\n",
    "        D_matrix = np.repeat(arr[None,:], len(arr), axis=axis)\n",
    "        dx.matrix = dx.matrix.toarray()\n",
    "        print(dx.matrix.shape)\n",
    "        print(D_matrix.shape)\n",
    "        dx.matrix = dx.matrix*D_matrix\n",
    "        dx.matrix = sparse.csr_matrix(dx.matrix)\n",
    "        dx.matrix.eliminate_zeros()\n",
    "    elif axis == 1:\n",
    "        arr = np.reshape(arr, (np.prod(arr.shape)))\n",
    "        D_matrix = np.repeat(arr[:,None], len(arr), axis=axis)\n",
    "        dx.matrix = dx.matrix.toarray()\n",
    "        dx.matrix = dx.matrix*D_matrix\n",
    "        dx.matrix = sparse.csr_matrix(dx.matrix)\n",
    "        dx.matrix.eliminate_zeros()\n",
    "    elif axis == 'full':\n",
    "        pass\n",
    "\n",
    "apply_array_to_fd(dx, D)\n",
    "\n",
    "sol = dx.operate()\n",
    "plt.plot(x,sol.data[:,resolution // 2])\n",
    "#plt.plot(x,np.exp(x),ls='--')\n",
    "print(x.shape)\n",
    "plt.plot(x,((1+x)**(-2)-2*(1+x)**(-3))*np.exp(x),ls='--')\n",
    "\n",
    "plt.ylim(-20,20)"
   ]
  },
  {
   "cell_type": "code",
   "execution_count": 223,
   "metadata": {},
   "outputs": [
    {
     "name": "stdout",
     "output_type": "stream",
     "text": [
      "(1, 100)\n",
      "arr shape full =  10000\n",
      "D defined for x, y\n"
     ]
    },
    {
     "name": "stderr",
     "output_type": "stream",
     "text": [
      "/home/nkaaz/.local/lib/python3.8/site-packages/scipy/sparse/_index.py:125: SparseEfficiencyWarning: Changing the sparsity structure of a csr_matrix is expensive. lil_matrix is more efficient.\n",
      "  self._set_arrayXarray(i, j, x)\n"
     ]
    },
    {
     "name": "stdout",
     "output_type": "stream",
     "text": [
      "new arr shape =  (10000,)\n",
      "full matrix shape =  (10000, 10000)\n",
      "full matrix new shape =  (10000, 10000)\n",
      "(1, 100)\n",
      "(1, 100)\n",
      "\n",
      "(1, 100)\n"
     ]
    },
    {
     "data": {
      "text/plain": [
       "(-20.0, 20.0)"
      ]
     },
     "execution_count": 223,
     "metadata": {},
     "output_type": "execute_result"
    },
    {
     "data": {
      "image/png": "[encoded data removed]",
      "text/plain": [
       "<Figure size 432x288 with 1 Axes>"
      ]
     },
     "metadata": {
      "needs_background": "light"
     },
     "output_type": "display_data"
    }
   ],
   "source": [
    "resolution = 100\n",
    "alpha = .1\n",
    "spatial_order = 4\n",
    "\n",
    "grid_x = field.UniformNonPeriodicGrid(resolution,(0,2*np.pi))\n",
    "grid_y = field.UniformNonPeriodicGrid(resolution,(0,2*np.pi))\n",
    "domain = field.Domain((grid_x,grid_y))\n",
    "x,y = domain.values()\n",
    "\n",
    "p = field.Field(domain)\n",
    "D=(1+y)**(-2)\n",
    "print(y.shape)\n",
    "IC = np.exp(y)\n",
    "\n",
    "p.data[:] = np.copy(IC)\n",
    "\n",
    "#print(p.data[:,0],p.data[:,1])\n",
    "\n",
    "dy=FiniteDifferenceUniformGrid(1, 4, p, axis=1)\n",
    "\n",
    "def apply_array_to_fd(dx, arr):\n",
    "    axis = dx.axis\n",
    "    if axis == 'full':\n",
    "        pass\n",
    "    else:\n",
    "        dx.matrix = dx.matrix.toarray()        \n",
    "        arr_shape_full = np.prod(arr.shape)\n",
    "        print(\"arr shape full = \", arr_shape_full)\n",
    "        if dx.matrix.shape == arr.shape:\n",
    "            full_matrix = dx._full_matrix\n",
    "            full_matrix = full_matrix.toarray()        \n",
    "            print(\"D defined for x, y\")\n",
    "            arr = np.reshape(arr, arr_shape_full)\n",
    "            arr_matrix = np.repeat(arr[None,:], len(arr), axis=0)\n",
    "            print(\"new arr shape = \", arr.shape)\n",
    "            print(\"full matrix shape = \", full_matrix.shape)\n",
    "            \n",
    "            full_matrix = full_matrix * arr_matrix\n",
    "            print('full matrix new shape = ', full_matrix.shape)\n",
    "            dx.matrix = sparse.csr_matrix(full_matrix)\n",
    "            dx.matrix.eliminate_zeros()\n",
    "            dx.axis   = 'full'\n",
    "        elif dx.matrix.shape == (arr_shape_full, arr_shape_full):\n",
    "            arr = np.reshape(arr, arr_shape_full)\n",
    "            arr_matrix = np.repeat(arr[None,:], len(arr), axis=0)\n",
    "            dx.matrix = dx.matrix*arr_matrix\n",
    "            dx.matrix = sparse.csr_matrix(dx.matrix)\n",
    "            dx.matrix.eliminate_zeros()\n",
    "        else:\n",
    "            print(\"Error, array shape mismatch!\")\n",
    "\n",
    "D = np.reshape(D, np.prod(D.shape))\n",
    "D = np.repeat(D[None,:], len(D), axis=0)\n",
    "#print(D.shape)\n",
    "apply_array_to_fd(dy, D)\n",
    "\n",
    "sol = dy.operate()\n",
    "analytic = ((1+y)**(-2)-2*(1+y)**(-3))*np.exp(y)\n",
    "print(analytic.shape)\n",
    "print(y.shape)\n",
    "print()\n",
    "plt.plot(y[0],sol.data[resolution // 2,:])\n",
    "#plt.plot(x,np.exp(x),ls='--')\n",
    "print(y.shape)\n",
    "\n",
    "plt.plot(y[0],analytic[0],ls='--')\n",
    "\n",
    "plt.ylim(-20,20)"
   ]
  },
  {
   "cell_type": "code",
   "execution_count": 225,
   "metadata": {},
   "outputs": [
    {
     "name": "stdout",
     "output_type": "stream",
     "text": [
      "(1, 100)\n",
      "x.shape =  (100, 1)\n",
      "y.shape =  (1, 100)\n",
      "D.shape =  (100, 100)\n",
      "2\n",
      "arr shape full =  10000\n",
      "D defined for x, y\n",
      "new arr shape =  (10000,)\n",
      "full matrix shape =  (10000, 10000)\n"
     ]
    },
    {
     "name": "stderr",
     "output_type": "stream",
     "text": [
      "/home/nkaaz/.local/lib/python3.8/site-packages/scipy/sparse/_index.py:125: SparseEfficiencyWarning: Changing the sparsity structure of a csr_matrix is expensive. lil_matrix is more efficient.\n",
      "  self._set_arrayXarray(i, j, x)\n"
     ]
    },
    {
     "name": "stdout",
     "output_type": "stream",
     "text": [
      "full matrix new shape =  (10000, 10000)\n",
      "[100, 100]\n",
      "dy axis =  full\n",
      "(10000, 10000)\n",
      "(10000,)\n",
      "(100, 100)\n",
      "(1, 100)\n",
      "\n",
      "(1, 100)\n"
     ]
    },
    {
     "data": {
      "text/plain": [
       "(-20.0, 20.0)"
      ]
     },
     "execution_count": 225,
     "metadata": {},
     "output_type": "execute_result"
    },
    {
     "data": {
      "image/png": "[encoded data removed]",
      "text/plain": [
       "<Figure size 432x288 with 1 Axes>"
      ]
     },
     "metadata": {
      "needs_background": "light"
     },
     "output_type": "display_data"
    }
   ],
   "source": [
    "resolution = 100\n",
    "alpha = .1\n",
    "spatial_order = 4\n",
    "\n",
    "grid_x = field.UniformNonPeriodicGrid(resolution,(0,2*np.pi))\n",
    "grid_y = field.UniformNonPeriodicGrid(resolution,(0,2*np.pi))\n",
    "domain = field.Domain((grid_x,grid_y))\n",
    "x,y = domain.values()\n",
    "\n",
    "p = field.Field(domain)\n",
    "D=(x+y)**(-2)\n",
    "print(y.shape)\n",
    "IC = np.exp(y)\n",
    "\n",
    "p.data[:] = np.copy(IC)\n",
    "\n",
    "#print(p.data[:,0],p.data[:,1])\n",
    "\n",
    "dy=FiniteDifferenceUniformGrid(1, 4, p, axis=1)\n",
    "\n",
    "d/dy (D(x,y)*p)\n",
    "def apply_array_to_fd(dx, arr):\n",
    "    axis = dx.axis\n",
    "    if axis == 'full':\n",
    "        pass\n",
    "    else:\n",
    "        dx.matrix = dx.matrix.toarray()        \n",
    "        arr_shape_full = np.prod(arr.shape)\n",
    "        print(\"arr shape full = \", arr_shape_full)\n",
    "        if dx.matrix.shape == arr.shape:\n",
    "            full_matrix = dx._full_matrix\n",
    "            full_matrix = full_matrix.toarray()        \n",
    "            print(\"D defined for x, y\")\n",
    "            arr = np.reshape(arr, arr_shape_full)\n",
    "            arr_matrix = np.repeat(arr[None,:], len(arr), axis=0)\n",
    "            print(\"new arr shape = \", arr.shape)\n",
    "            print(\"full matrix shape = \", full_matrix.shape)\n",
    "            \n",
    "            full_matrix = full_matrix * arr_matrix\n",
    "            print('full matrix new shape = ', full_matrix.shape)\n",
    "            dx.matrix = sparse.csr_matrix(full_matrix)\n",
    "            dx.matrix.eliminate_zeros()\n",
    "            dx.axis   = 'full'\n",
    "        elif dx.matrix.shape == (arr_shape_full, arr_shape_full):\n",
    "            arr = np.reshape(arr, arr_shape_full)\n",
    "            arr_matrix = np.repeat(arr[None,:], len(arr), axis=0)\n",
    "            dx.matrix = dx.matrix*arr_matrix\n",
    "            dx.matrix = sparse.csr_matrix(dx.matrix)\n",
    "            dx.matrix.eliminate_zeros()\n",
    "        else:\n",
    "            print(\"Error, array shape mismatch!\")\n",
    "\n",
    "print(\"x.shape = \", x.shape)\n",
    "print(\"y.shape = \", y.shape)\n",
    "print(\"D.shape = \", D.shape)\n",
    "print(dy.domain.dimension)\n",
    "apply_array_to_fd(dy, D)\n",
    "print(dy.domain.shape)\n",
    "print(\"dy axis = \", dy.axis)\n",
    "print(dy.matrix.A.shape)\n",
    "print(dy.field.flatten_data().shape)\n",
    "sol = dy.operate()\n",
    "analytic = np.exp(y)*((x+y)**(-2) - 2*(x+y)**(-3))\n",
    "\n",
    "#((1+y)**(-2)-2*(1+y)**(-3))*np.exp(y)\n",
    "print(analytic.shape)\n",
    "print(y.shape)\n",
    "print()\n",
    "plt.plot(y[0],sol.data[resolution // 2,:])\n",
    "#plt.plot(x,np.exp(x),ls='--')\n",
    "print(y.shape)\n",
    "\n",
    "plt.plot(y[0],analytic[resolution // 2,:],ls='--')\n",
    "\n",
    "plt.ylim(-20,20)"
   ]
  },
  {
   "cell_type": "code",
   "execution_count": null,
   "metadata": {},
   "outputs": [],
   "source": [
    "resolution = 100\n",
    "alpha = .1\n",
    "spatial_order = 4\n",
    "\n",
    "grid_x = field.UniformNonPeriodicGrid(resolution,(0,2*np.pi))\n",
    "grid_y = field.UniformNonPeriodicGrid(resolution,(0,2*np.pi))\n",
    "domain = field.Domain((grid_x,grid_y))\n",
    "x,y = domain.values()\n",
    "\n",
    "p = field.Field(domain)\n",
    "D=(x+y)**(-2)\n",
    "print(y.shape)\n",
    "IC = np.exp(y)\n",
    "\n",
    "p.data[:] = np.copy(IC)\n",
    "\n",
    "dx=FiniteDifferenceUniformGrid(1, 4, p, axis=0)\n",
    "dxy=FiniteDifferenceUniformGrid(1, 4, dx, axis=1)\n",
    "\n",
    "def apply_array_to_fd(dx, arr):\n",
    "    axis = dx.axis\n",
    "    if axis == 'full':\n",
    "        pass\n",
    "    else:\n",
    "        dx.matrix = dx.matrix.toarray()        \n",
    "        arr_shape_full = np.prod(arr.shape)\n",
    "        print(\"arr shape full = \", arr_shape_full)\n",
    "        if dx.matrix.shape == arr.shape:\n",
    "            full_matrix = dx._full_matrix\n",
    "            full_matrix = full_matrix.toarray()        \n",
    "            print(\"D defined for x, y\")\n",
    "            arr = np.reshape(arr, arr_shape_full)\n",
    "            arr_matrix = np.repeat(arr[None,:], len(arr), axis=0)\n",
    "            print(\"new arr shape = \", arr.shape)\n",
    "            print(\"full matrix shape = \", full_matrix.shape)\n",
    "            \n",
    "            full_matrix = full_matrix * arr_matrix\n",
    "            print('full matrix new shape = ', full_matrix.shape)\n",
    "            dx.matrix = sparse.csr_matrix(full_matrix)\n",
    "            dx.matrix.eliminate_zeros()\n",
    "            dx.axis   = 'full'\n",
    "        elif dx.matrix.shape == (arr_shape_full, arr_shape_full):\n",
    "            arr = np.reshape(arr, arr_shape_full)\n",
    "            arr_matrix = np.repeat(arr[None,:], len(arr), axis=0)\n",
    "            dx.matrix = dx.matrix*arr_matrix\n",
    "            dx.matrix = sparse.csr_matrix(dx.matrix)\n",
    "            dx.matrix.eliminate_zeros()\n",
    "        else:\n",
    "            print(\"Error, array shape mismatch!\")\n",
    "\n",
    "\n",
    "apply_array_to_fd(dxy, D)\n",
    "\n",
    "analytic = 2*((x+y)**(-3))*np.exp(y)*(3*(x+y)**(-1) - 1)\n",
    "\n",
    "plt.plot(y[0],sol.data[resolutio\n",
    "                       \n",
    "plt.plot(y[0],analytic[resolution // 2,:],ls='--')"
   ]
  },
  {
   "cell_type": "markdown",
   "metadata": {},
   "source": [
    "### $p(x) = {\\rm sin}(x)$\n",
    "### $D(x, y) = x^2 + y^2$\n",
    "### $\\frac{d(pD)}{dx} = 2x{\\rm sin}(x) + (x^2 + y^2){\\rm cos}(x)$"
   ]
  },
  {
   "cell_type": "markdown",
   "metadata": {},
   "source": [
    "### $\\frac{d^2(pD)}{d^2x} = 2sin(x) + 4xcos(x) - (x^2 + y^2)sin(x)$"
   ]
  },
  {
   "cell_type": "markdown",
   "metadata": {},
   "source": [
    "### $\\frac{d^2(pD)}{dxdy} = 2y{\\rm cos}(x)$"
   ]
  },
  {
   "cell_type": "code",
   "execution_count": null,
   "metadata": {},
   "outputs": [],
   "source": [
    "dx_Ddpy=FiniteDifferenceUniformGrid(1, spatial_order, D*dpy, axis=0)\n",
    " dy_Ddpx=FiniteDifferenceUniformGrid(1, spatial_order, D*dpx ,axis=1) (edited) \n",
    "5:25\n",
    "dpx=FiniteDifferenceUniformGrid(1, spatial_order, p, axis=0)\n",
    " dpy=FiniteDifferenceUniformGrid(1, spatial_order, p, axis=1)\n",
    "5:26\n",
    "self.X = X\n",
    "p = X.field_list[0]\n",
    "self.domain = p.domain\n",
    "pt = Field(self.domain)\n",
    "5:26\n",
    "grid_x=field.UniformPeriodicGrid(resolution,2*np.pi)\n",
    "grid_y=field.UniformPeriodicGrid(resolution,2*np.pi)\n",
    "domain = field.Domain((grid_x, grid_y))\n",
    "x, y = domain.values()\n",
    "p = field.Field(domain)\n",
    "X = field.FieldSystem([p])\n",
    "mu=field.Array(domain, 0.*np.ones(p.data.shape))\n",
    "D=field.Array(domain, 0.5*np.ones(p.data.shape))\n",
    "\n"
   ]
  },
  {
   "cell_type": "code",
   "execution_count": 253,
   "metadata": {},
   "outputs": [
    {
     "name": "stdout",
     "output_type": "stream",
     "text": [
      "(1, 100)\n"
     ]
    },
    {
     "name": "stderr",
     "output_type": "stream",
     "text": [
      "/home/nkaaz/.local/lib/python3.8/site-packages/scipy/sparse/_index.py:125: SparseEfficiencyWarning: Changing the sparsity structure of a csr_matrix is expensive. lil_matrix is more efficient.\n",
      "  self._set_arrayXarray(i, j, x)\n"
     ]
    },
    {
     "name": "stdout",
     "output_type": "stream",
     "text": [
      "(1, 100)\n"
     ]
    },
    {
     "data": {
      "text/plain": [
       "(-20.0, 20.0)"
      ]
     },
     "execution_count": 253,
     "metadata": {},
     "output_type": "execute_result"
    },
    {
     "data": {
      "image/png": "[encoded data removed]",
      "text/plain": [
       "<Figure size 432x288 with 1 Axes>"
      ]
     },
     "metadata": {
      "needs_background": "light"
     },
     "output_type": "display_data"
    }
   ],
   "source": [
    "resolution = 100\n",
    "alpha = .1\n",
    "spatial_order = 4\n",
    "\n",
    "grid_x = field.UniformNonPeriodicGrid(resolution,(0,2*np.pi))\n",
    "grid_y = field.UniformNonPeriodicGrid(resolution,(0,2*np.pi))\n",
    "domain = field.Domain((grid_x,grid_y))\n",
    "x,y = domain.values()\n",
    "\n",
    "p = field.Field(domain)\n",
    "D = field.Array(domain, x*x + y*y)\n",
    "print(y.shape)\n",
    "IC = np.sin(x)\n",
    "\n",
    "#analytic = 2*x*np.sin(x) + (x*x + y*y)*np.cos(x)\n",
    "#analytic  = 2*np.sin(x) + 4*x*np.cos(x) - (x*x + y*y)*np.sin(x)\n",
    "analytic = 2*y*np.cos(x)\n",
    "\n",
    "p.data[:] = np.copy(IC)\n",
    "\n",
    "#print(p.data[:,0],p.data[:,1])\n",
    "\n",
    "#dpy=FiniteDifferenceUniformGrid(1, spatial_order, p, axis=1)\n",
    "#dpx=FiniteDifferenceUniformGrid(1, spatial_order, p, axis=0)\n",
    "\n",
    "#dx_Ddpy=FiniteDifferenceUniformGrid(1, spatial_order, D*dpy, axis=0)\n",
    "#dy_Ddpx=FiniteDifferenceUniformGrid(1, spatial_order, D*dpx ,axis=1)\n",
    "\n",
    "#dpxx=FiniteDifferenceUniformGrid(2, spatial_order, D*p, axis=0)\n",
    "dpx=FiniteDifferenceUniformGrid(1, spatial_order,  D*p, axis=0)\n",
    "dpxy=FiniteDifferenceUniformGrid(1, spatial_order, dpx, axis=1)\n",
    "\n",
    "\n",
    "sol = dpxy.operate()\n",
    "\n",
    "#((1+y)**(-2)-2*(1+y)**(-3))*np.exp(y)\n",
    "\n",
    "plt.plot(x,sol.data[:, resolution // 2])\n",
    "#plt.plot(x,np.exp(x),ls='--')\n",
    "print(y.shape)\n",
    "\n",
    "plt.plot(x,analytic[:, resolution // 2],ls='--')\n",
    "\n",
    "plt.ylim(-20,20)"
   ]
  }
 ],
 "metadata": {
  "kernelspec": {
   "display_name": "Python 3",
   "language": "python",
   "name": "python3"
  },
  "language_info": {
   "codemirror_mode": {
    "name": "ipython",
    "version": 3
   },
   "file_extension": ".py",
   "mimetype": "text/x-python",
   "name": "python",
   "nbconvert_exporter": "python",
   "pygments_lexer": "ipython3",
   "version": "3.8.5"
  }
 },
 "nbformat": 4,
 "nbformat_minor": 4
}
